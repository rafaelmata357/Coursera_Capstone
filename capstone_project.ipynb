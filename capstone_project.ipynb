{
 "cells": [
  {
   "cell_type": "markdown",
   "metadata": {},
   "source": [
    "# Applied Data Science Capstone Project"
   ]
  },
  {
   "cell_type": "markdown",
   "metadata": {},
   "source": [
    "This a jupyter notebook for the final project of the Applied data science specialization from Coursera IBM path career\n",
    "The project will use a car accident dataset to predict the severity of an accident."
   ]
  },
  {
   "cell_type": "markdown",
   "metadata": {},
   "source": [
    "# Introduction/Business Problem "
   ]
  },
  {
   "cell_type": "markdown",
   "metadata": {},
   "source": [
    "Nowadays the car is one of the most used medium to travel, to go to work, move between cities,etc. This phenomenon increases the number of cars in the streets and the possibilities of accidents between cars, cyclist or pedestrians.\n",
    "\n",
    "Also conditions like location, weather, road staus, speed, light and others can influence  the accident odds and this could result in injuries, car and property damage, fatalities, financial impact, medical bills, emotional impact or long-term consequences.\n",
    "\n",
    "Stakeholder groups that are affected for the car accidents are drivers, pedestrians, cyclist, local and regional authorities and others involved in the accidents.\n",
    "\n",
    "Taking that in consideration the question or problem to be answered with this project is knowing certain conditions (weather, location, day, road status,etc) what is the probability to have a car accident predicting the severity of it.\n",
    "\n",
    "This will help the stakeholders in different ways, for example:\n",
    "\n",
    "- Avoiding to drive when there are some risky conditions\n",
    "- Drive carefully due to certain conditions\n",
    "- Reduce fatalities\n",
    "- Reduce medical bills\n",
    "- Minimizing fatal/injury car crash\n",
    "- Identify locations with highest accidents rate and take actions\n"
   ]
  },
  {
   "cell_type": "markdown",
   "metadata": {},
   "source": [
    "---\n",
    "# DATA UNDERSTANDING\n",
    "---"
   ]
  },
  {
   "cell_type": "markdown",
   "metadata": {},
   "source": [
    "In order to address the problem, there is a dataset called **Collision -All Years** which has data for the Seattle city car accidents.\n",
    "The file is in .csv format, and can be found in this link: [DATASET](https://s3.us.cloud-object-storage.appdomain.cloud/cf-courses-data/CognitiveClass/DP0701EN/version-2/Data-Collisions.csv), also a description for each file is [HERE](https://s3.us.cloud-object-storage.appdomain.cloud/cf-courses-data/CognitiveClass/DP0701EN/version-2/Metadata.pdf)\n",
    "\n",
    "The dataset contains **194673** observations and **38** features or columns, this is the list of features:\n",
    "\n",
    "| FIELD       | TYPE       | FIELD     | TYPE       | FIELD     | TYPE      | FIELD     | TYPE      | FIELD     | TYPE      |\n",
    "| ----------- | ----------- |-----------|-----------|-----------|-----------|-----------|-----------|-----------|-----------|\n",
    "|SEVERITYCODE | int64       |ADDRTYPE   | object    |PERSONCOUNT| int64     |SDOT_COLDESC|object    |SPEEDING   |object     |\n",
    "|X            | float64     |INTKEY     | float64   |PEDCOUNT   | int64     |INATTENTIONIND|object  |ST_COLCODE |object     |\n",
    "|Y            | floa64      |LOCATION   | object    |PEDCYLCOUNT| int64     |UNDERINFL  |object     |ST_COLDESC |object     |\n",
    "|OBJECTID     | int64       |EXCEPTRSNCODE |object  |VEHCOUNT   | int64     |WEATHER    |object     |SEGLANEKEY |int64      |\n",
    "|INCKEY       | int64       |EXCEPTRSNDESC |object  |INCDATE    | object    |ROADCOND   |object     |CROSSWALKKEY|int64     |\n",
    "|COLDETKEY    | int64       |SEVERITYCODE.1|int64   |INCDTTM    | object    |LIGHTCOND  |object     |HITPARKEDCAR|object    |\n",
    "|REPORTNO     | object      |SEVERITYDESC  |object  |JUNCTIONTYPE|object    |PEDROWNOTGRNT|object   |            |          |\n",
    "|STATUS       | object      |COLLISIONTYPE |object  |SDOT_COLCODE|int64     |SDOTCOLNUM|float64     |            |          |\n",
    "\n",
    "The first column **SEVERITYCODE** which describes the fatality of an accident will be used as the target or labeled data, the other columns have different types of attributes, many of the observations are good to train and test the machine learning model.\n",
    "\n",
    "Analyzing the dataset \n",
    "\n",
    "- 6 of the features have many missing values, for the modelling those features that have more than 50% missing data will not be used for \n",
    "trainning or testing.\n",
    "\n",
    "| FIELD       | %NaN VALUES      | FIELD          | %NaN Values  | FIELD        | %NaN Values  | \n",
    "| ----------- | ---------------- |----------------|--------------|--------------|--------------|\n",
    "|INTKEY       | 66.57%           | EXCEPTRSNDESC  | 97.10%       |INATTENTIONIND| 84.69%       |\n",
    "|PEDROWNOTGRNT| 97.60%           | SPEEDING       | 95.20%.      |EXCEPTRSNCODE | 56.43%       |\n",
    "\n",
    "\n",
    "- The target label is unbalance with 136485 for value 1 and 58188 for value 2 severity codes,  so for trainning this columns must be balance\n",
    "\n",
    "- The target is duplicate with the feature SEVERITYCODE.1 and SEVERITYDESC, so these features will not be considered\n",
    "\n",
    "- There are features that are unique values that does not add significance to the model, so won´t be used as features for modelling\n",
    "\n",
    "| FIELD       | FIELD     | FIELD      | FIELD          | \n",
    "| ----------- | ----------|----------- |----------------|\n",
    "| OBJECTID     | COLDEKEY  | INTKEY    | CROSSWALKKEY   |\n",
    "| INCKEY       | REPORTNO  | SEGLANEKEY| SDOTCOLNUM     |\n",
    "\n",
    "- The features X, Y and LOCATION describe the same characteristic, so only one of this will be used\n",
    "\n",
    "- The feature status is totally umbalanced and is very similar to the target so won´t be used\n",
    "\n",
    "- INCDATE and INCDTTM have the same date info so only INCOTTM will be used that have in addition the hour\n",
    "\n",
    "- ADDRTYPE and JUNCTIONTYPE have the same information with JUNCTIONTYPE wiht more detail, so only this will be used\n",
    "\n",
    "- FOR PEDCOUNT and PEDCYLCOUNT both are considered in the field COLLISIONTYPE so are not used\n",
    "\n",
    "- SDOT_COLDESC and ST_COLDESC are descriptions of SDOT_COLCODE, ST_COLCODE are reduntdant and not used\n",
    "\n",
    "- SDOT_COLCODE and ST_COLCODE describe similar conditions so only ST_COLCODE is used it has a better distribution\n",
    "\n",
    "- HITPARKEDCAR is unbalanced and this characteristic is also included in the ST_COLCODE so is not used\n",
    "\n",
    "- WEATHER and ROADCOND share similar characteristics and have a direct relation so only ROADCOND is used\n",
    "\n",
    "- VEHCOUNT and PERSONCOUNT have many outliers so will need some cleaning to be used in the model\n",
    "\n",
    "- UNDERINFL has letters (Y/N) mix with numbers (1/0) so needs to be fixed to be used in the model\n",
    "\n",
    "#### The features to be used in the model are:\n",
    "\n",
    "LABEL: SEVERITY\n",
    "\n",
    "FEATURES:\n",
    "\n",
    "1. X: Geographic location of the accident\n",
    "2. COLLISIONTYPE: Type of collision\n",
    "3. VEHCOUNT: Number of vehicles involve in the accident\n",
    "4. PERSONCOUNT: Number of persons involve in the accident\n",
    "5. INCDTTM: Date and hour of the accident\n",
    "6. JUNCTIONTYPE: Category of junction at which collision took place\n",
    "7. UNDERINFL: Whether or not a driver involved was under the influence of drugs or alcohol.\n",
    "8. ROADCOND: Conditions of the road\n",
    "9. LIGHTCOND: Light conditions\n",
    "10. ST_COLCODE: A code provided by the state that describes the collision \n",
    "\n",
    "The following graphs and descriptive statistics  shows the characteristics of the dataset to chose the features to use in the model.\n"
   ]
  },
  {
   "cell_type": "code",
   "execution_count": 1,
   "metadata": {},
   "outputs": [],
   "source": [
    "%matplotlib inline\n",
    "import pandas as pd\n",
    "import numpy as np\n",
    "import matplotlib.pyplot as plt\n",
    "import seaborn as sns"
   ]
  },
  {
   "cell_type": "code",
   "execution_count": 2,
   "metadata": {},
   "outputs": [
    {
     "name": "stdout",
     "output_type": "stream",
     "text": [
      "Dataset read\n"
     ]
    }
   ],
   "source": [
    "#Read the dataset using pandas\n",
    "df = pd.read_csv('Data-Collisions.csv',low_memory=False)\n",
    "print('Dataset read')"
   ]
  },
  {
   "cell_type": "markdown",
   "metadata": {},
   "source": [
    "### Dataset example"
   ]
  },
  {
   "cell_type": "code",
   "execution_count": 3,
   "metadata": {},
   "outputs": [
    {
     "data": {
      "text/html": [
       "<div>\n",
       "<style scoped>\n",
       "    .dataframe tbody tr th:only-of-type {\n",
       "        vertical-align: middle;\n",
       "    }\n",
       "\n",
       "    .dataframe tbody tr th {\n",
       "        vertical-align: top;\n",
       "    }\n",
       "\n",
       "    .dataframe thead th {\n",
       "        text-align: right;\n",
       "    }\n",
       "</style>\n",
       "<table border=\"1\" class=\"dataframe\">\n",
       "  <thead>\n",
       "    <tr style=\"text-align: right;\">\n",
       "      <th></th>\n",
       "      <th>SEVERITYCODE</th>\n",
       "      <th>X</th>\n",
       "      <th>Y</th>\n",
       "      <th>OBJECTID</th>\n",
       "      <th>INCKEY</th>\n",
       "      <th>COLDETKEY</th>\n",
       "      <th>REPORTNO</th>\n",
       "      <th>STATUS</th>\n",
       "      <th>ADDRTYPE</th>\n",
       "      <th>INTKEY</th>\n",
       "      <th>...</th>\n",
       "      <th>ROADCOND</th>\n",
       "      <th>LIGHTCOND</th>\n",
       "      <th>PEDROWNOTGRNT</th>\n",
       "      <th>SDOTCOLNUM</th>\n",
       "      <th>SPEEDING</th>\n",
       "      <th>ST_COLCODE</th>\n",
       "      <th>ST_COLDESC</th>\n",
       "      <th>SEGLANEKEY</th>\n",
       "      <th>CROSSWALKKEY</th>\n",
       "      <th>HITPARKEDCAR</th>\n",
       "    </tr>\n",
       "  </thead>\n",
       "  <tbody>\n",
       "    <tr>\n",
       "      <th>0</th>\n",
       "      <td>2</td>\n",
       "      <td>-122.323148</td>\n",
       "      <td>47.703140</td>\n",
       "      <td>1</td>\n",
       "      <td>1307</td>\n",
       "      <td>1307</td>\n",
       "      <td>3502005</td>\n",
       "      <td>Matched</td>\n",
       "      <td>Intersection</td>\n",
       "      <td>37475.0</td>\n",
       "      <td>...</td>\n",
       "      <td>Wet</td>\n",
       "      <td>Daylight</td>\n",
       "      <td>NaN</td>\n",
       "      <td>NaN</td>\n",
       "      <td>NaN</td>\n",
       "      <td>10</td>\n",
       "      <td>Entering at angle</td>\n",
       "      <td>0</td>\n",
       "      <td>0</td>\n",
       "      <td>N</td>\n",
       "    </tr>\n",
       "    <tr>\n",
       "      <th>1</th>\n",
       "      <td>1</td>\n",
       "      <td>-122.347294</td>\n",
       "      <td>47.647172</td>\n",
       "      <td>2</td>\n",
       "      <td>52200</td>\n",
       "      <td>52200</td>\n",
       "      <td>2607959</td>\n",
       "      <td>Matched</td>\n",
       "      <td>Block</td>\n",
       "      <td>NaN</td>\n",
       "      <td>...</td>\n",
       "      <td>Wet</td>\n",
       "      <td>Dark - Street Lights On</td>\n",
       "      <td>NaN</td>\n",
       "      <td>6354039.0</td>\n",
       "      <td>NaN</td>\n",
       "      <td>11</td>\n",
       "      <td>From same direction - both going straight - bo...</td>\n",
       "      <td>0</td>\n",
       "      <td>0</td>\n",
       "      <td>N</td>\n",
       "    </tr>\n",
       "    <tr>\n",
       "      <th>2</th>\n",
       "      <td>1</td>\n",
       "      <td>-122.334540</td>\n",
       "      <td>47.607871</td>\n",
       "      <td>3</td>\n",
       "      <td>26700</td>\n",
       "      <td>26700</td>\n",
       "      <td>1482393</td>\n",
       "      <td>Matched</td>\n",
       "      <td>Block</td>\n",
       "      <td>NaN</td>\n",
       "      <td>...</td>\n",
       "      <td>Dry</td>\n",
       "      <td>Daylight</td>\n",
       "      <td>NaN</td>\n",
       "      <td>4323031.0</td>\n",
       "      <td>NaN</td>\n",
       "      <td>32</td>\n",
       "      <td>One parked--one moving</td>\n",
       "      <td>0</td>\n",
       "      <td>0</td>\n",
       "      <td>N</td>\n",
       "    </tr>\n",
       "    <tr>\n",
       "      <th>3</th>\n",
       "      <td>1</td>\n",
       "      <td>-122.334803</td>\n",
       "      <td>47.604803</td>\n",
       "      <td>4</td>\n",
       "      <td>1144</td>\n",
       "      <td>1144</td>\n",
       "      <td>3503937</td>\n",
       "      <td>Matched</td>\n",
       "      <td>Block</td>\n",
       "      <td>NaN</td>\n",
       "      <td>...</td>\n",
       "      <td>Dry</td>\n",
       "      <td>Daylight</td>\n",
       "      <td>NaN</td>\n",
       "      <td>NaN</td>\n",
       "      <td>NaN</td>\n",
       "      <td>23</td>\n",
       "      <td>From same direction - all others</td>\n",
       "      <td>0</td>\n",
       "      <td>0</td>\n",
       "      <td>N</td>\n",
       "    </tr>\n",
       "    <tr>\n",
       "      <th>4</th>\n",
       "      <td>2</td>\n",
       "      <td>-122.306426</td>\n",
       "      <td>47.545739</td>\n",
       "      <td>5</td>\n",
       "      <td>17700</td>\n",
       "      <td>17700</td>\n",
       "      <td>1807429</td>\n",
       "      <td>Matched</td>\n",
       "      <td>Intersection</td>\n",
       "      <td>34387.0</td>\n",
       "      <td>...</td>\n",
       "      <td>Wet</td>\n",
       "      <td>Daylight</td>\n",
       "      <td>NaN</td>\n",
       "      <td>4028032.0</td>\n",
       "      <td>NaN</td>\n",
       "      <td>10</td>\n",
       "      <td>Entering at angle</td>\n",
       "      <td>0</td>\n",
       "      <td>0</td>\n",
       "      <td>N</td>\n",
       "    </tr>\n",
       "  </tbody>\n",
       "</table>\n",
       "<p>5 rows × 38 columns</p>\n",
       "</div>"
      ],
      "text/plain": [
       "   SEVERITYCODE           X          Y  OBJECTID  INCKEY  COLDETKEY REPORTNO  \\\n",
       "0             2 -122.323148  47.703140         1    1307       1307  3502005   \n",
       "1             1 -122.347294  47.647172         2   52200      52200  2607959   \n",
       "2             1 -122.334540  47.607871         3   26700      26700  1482393   \n",
       "3             1 -122.334803  47.604803         4    1144       1144  3503937   \n",
       "4             2 -122.306426  47.545739         5   17700      17700  1807429   \n",
       "\n",
       "    STATUS      ADDRTYPE   INTKEY  ... ROADCOND                LIGHTCOND  \\\n",
       "0  Matched  Intersection  37475.0  ...      Wet                 Daylight   \n",
       "1  Matched         Block      NaN  ...      Wet  Dark - Street Lights On   \n",
       "2  Matched         Block      NaN  ...      Dry                 Daylight   \n",
       "3  Matched         Block      NaN  ...      Dry                 Daylight   \n",
       "4  Matched  Intersection  34387.0  ...      Wet                 Daylight   \n",
       "\n",
       "  PEDROWNOTGRNT  SDOTCOLNUM SPEEDING ST_COLCODE  \\\n",
       "0           NaN         NaN      NaN         10   \n",
       "1           NaN   6354039.0      NaN         11   \n",
       "2           NaN   4323031.0      NaN         32   \n",
       "3           NaN         NaN      NaN         23   \n",
       "4           NaN   4028032.0      NaN         10   \n",
       "\n",
       "                                          ST_COLDESC  SEGLANEKEY  \\\n",
       "0                                  Entering at angle           0   \n",
       "1  From same direction - both going straight - bo...           0   \n",
       "2                             One parked--one moving           0   \n",
       "3                   From same direction - all others           0   \n",
       "4                                  Entering at angle           0   \n",
       "\n",
       "   CROSSWALKKEY  HITPARKEDCAR  \n",
       "0             0             N  \n",
       "1             0             N  \n",
       "2             0             N  \n",
       "3             0             N  \n",
       "4             0             N  \n",
       "\n",
       "[5 rows x 38 columns]"
      ]
     },
     "execution_count": 3,
     "metadata": {},
     "output_type": "execute_result"
    }
   ],
   "source": [
    "df.head()"
   ]
  },
  {
   "cell_type": "markdown",
   "metadata": {},
   "source": [
    "#### Here is the data shape of the dataset with 194673 observations and 38 columns"
   ]
  },
  {
   "cell_type": "code",
   "execution_count": 4,
   "metadata": {},
   "outputs": [
    {
     "data": {
      "text/plain": [
       "(194673, 38)"
      ]
     },
     "execution_count": 4,
     "metadata": {},
     "output_type": "execute_result"
    }
   ],
   "source": [
    "#Dataset shape\n",
    "df.shape"
   ]
  },
  {
   "cell_type": "markdown",
   "metadata": {},
   "source": [
    "### Features with more than 50% NaN Values"
   ]
  },
  {
   "cell_type": "code",
   "execution_count": 5,
   "metadata": {},
   "outputs": [],
   "source": [
    "nulls = df.isnull().sum()\n",
    "nulls = nulls/df.shape[0]*100\n",
    "nulls = nulls[nulls > 50]"
   ]
  },
  {
   "cell_type": "code",
   "execution_count": 6,
   "metadata": {},
   "outputs": [
    {
     "data": {
      "image/png": "[encoded data removed]",
      "text/plain": [
       "<Figure size 1296x432 with 1 Axes>"
      ]
     },
     "metadata": {
      "needs_background": "light"
     },
     "output_type": "display_data"
    }
   ],
   "source": [
    "ax = nulls.plot(kind='bar', figsize=(18, 6), width=0.4, color=['#5cb85c'])\n",
    "#fig, axes = plt.subplots(nrows=1, ncols=1, figsize=(14,5)) \n",
    "ax.set_title('%Features with Nan values greater than 40%', fontsize=15)\n",
    "ax.tick_params(axis=\"x\", labelsize=14)\n",
    "ax.spines['top'].set_visible(False)\n",
    "ax.spines['right'].set_visible(False)\n",
    "ax.spines['left'].set_visible(False)\n",
    "ax.get_yaxis().set_ticks([])\n",
    "xticklabels = nulls.index\n",
    "for p in ax.patches:\n",
    "    ax.annotate('{:.2f}'.format(p.get_height()), (p.get_x()+0.10, p.get_height() + 1.5),fontsize=14)\n",
    "ax.set_xticklabels(xticklabels, rotation = 0);"
   ]
  },
  {
   "cell_type": "markdown",
   "metadata": {},
   "source": [
    "### Label feature balance"
   ]
  },
  {
   "cell_type": "code",
   "execution_count": 7,
   "metadata": {},
   "outputs": [
    {
     "data": {
      "image/png": "[encoded data removed]",
      "text/plain": [
       "<Figure size 720x432 with 1 Axes>"
      ]
     },
     "metadata": {
      "needs_background": "light"
     },
     "output_type": "display_data"
    }
   ],
   "source": [
    "ax = df['SEVERITYCODE'].value_counts().plot(kind='bar', figsize=(10, 6), width=0.4, color=['#5cb85c'])\n",
    "#fig, axes = plt.subplots(nrows=1, ncols=1, figsize=(14,5)) \n",
    "ax.set_title('SeveryCode Target feature balance', fontsize=15)\n",
    "ax.tick_params(axis=\"x\", labelsize=14)\n",
    "ax.spines['top'].set_visible(False)\n",
    "ax.spines['right'].set_visible(False)\n",
    "ax.spines['left'].set_visible(False)\n",
    "ax.get_yaxis().set_ticks([])\n",
    "xticklabels =df['SEVERITYCODE'].value_counts().index\n",
    "for p in ax.patches:\n",
    "    ax.annotate('{:.0f}'.format(p.get_height()), (p.get_x()+0.10, p.get_height()+3500),fontsize=14)\n",
    "ax.set_xticklabels(xticklabels, rotation = 0);\n"
   ]
  },
  {
   "cell_type": "markdown",
   "metadata": {},
   "source": [
    "#### JUNCTIONTYPE vs ADDRTYPE "
   ]
  },
  {
   "cell_type": "code",
   "execution_count": 8,
   "metadata": {},
   "outputs": [
    {
     "data": {
      "image/png": "[encoded data removed]",
      "text/plain": [
       "<Figure size 1440x720 with 2 Axes>"
      ]
     },
     "metadata": {
      "needs_background": "light"
     },
     "output_type": "display_data"
    }
   ],
   "source": [
    "fig, ax = plt.subplots(nrows=2, ncols=1, figsize=(20,10)) \n",
    "df['JUNCTIONTYPE'].value_counts().plot(ax=ax[0], kind='bar', width=0.4, color=['#5cb85c'])\n",
    "ax[0].set_title('JUNCTIONTYPE Feature', fontsize=15)\n",
    "ax[0].tick_params(axis=\"x\", labelsize=8)\n",
    "ax[0].spines['top'].set_visible(False)\n",
    "ax[0].spines['right'].set_visible(False)\n",
    "ax[0].spines['left'].set_visible(False)\n",
    "ax[0].get_yaxis().set_ticks([])\n",
    "xticklabels = df['JUNCTIONTYPE'].value_counts().index\n",
    "for p in ax[0].patches:\n",
    "    ax[0].annotate('{:.0f}'.format(p.get_height()), (p.get_x()+0.10, p.get_height() + 2500),fontsize=14)\n",
    "ax[0].set_xticklabels(xticklabels, rotation = 0);\n",
    "#-------\n",
    "df['ADDRTYPE'].value_counts().plot(ax=ax[1], kind='bar', width=0.4, color=['#5cb85c'])\n",
    "ax[1].set_title('ADDRTYPE Feature', fontsize=15)\n",
    "ax[1].tick_params(axis=\"x\", labelsize=10)\n",
    "ax[1].spines['top'].set_visible(False)\n",
    "ax[1].spines['right'].set_visible(False)\n",
    "ax[1].spines['left'].set_visible(False)\n",
    "ax[1].get_yaxis().set_ticks([])\n",
    "xticklabels = df['ADDRTYPE'].value_counts().index\n",
    "for p in ax[1].patches:\n",
    "    ax[1].annotate('{:.0f}'.format(p.get_height()), (p.get_x()+0.10, p.get_height() + 1500),fontsize=14)\n",
    "ax[1].set_xticklabels(xticklabels, rotation = 0);"
   ]
  },
  {
   "cell_type": "markdown",
   "metadata": {},
   "source": [
    "#### Collision type feature"
   ]
  },
  {
   "cell_type": "code",
   "execution_count": 9,
   "metadata": {},
   "outputs": [
    {
     "data": {
      "image/png": "[encoded data removed]",
      "text/plain": [
       "<Figure size 864x432 with 1 Axes>"
      ]
     },
     "metadata": {
      "needs_background": "light"
     },
     "output_type": "display_data"
    }
   ],
   "source": [
    "ax = df['COLLISIONTYPE'].value_counts().plot(kind='bar', figsize=(12, 6), width=0.4, color=['#5cb85c'])\n",
    "#fig, axes = plt.subplots(nrows=1, ncols=1, figsize=(14,5)) \n",
    "ax.set_title('COLLISIONTYPE  feature balance', fontsize=15)\n",
    "ax.tick_params(axis=\"x\", labelsize=8)\n",
    "ax.spines['top'].set_visible(False)\n",
    "ax.spines['right'].set_visible(False)\n",
    "ax.spines['left'].set_visible(False)\n",
    "ax.get_yaxis().set_ticks([])\n",
    "xticklabels =df['COLLISIONTYPE'].value_counts().index\n",
    "for p in ax.patches:\n",
    "    ax.annotate('{:.0f}'.format(p.get_height()), (p.get_x()-0.10, p.get_height()+600),fontsize=14)\n",
    "ax.set_xticklabels(xticklabels, rotation = 0);"
   ]
  },
  {
   "cell_type": "markdown",
   "metadata": {},
   "source": [
    "#### SDOT_COLCODE vs ST_COLCODE"
   ]
  },
  {
   "cell_type": "code",
   "execution_count": 10,
   "metadata": {},
   "outputs": [
    {
     "data": {
      "image/png": "[encoded data removed]",
      "text/plain": [
       "<Figure size 1440x720 with 2 Axes>"
      ]
     },
     "metadata": {
      "needs_background": "light"
     },
     "output_type": "display_data"
    }
   ],
   "source": [
    "fig, ax = plt.subplots(nrows=2, ncols=1, figsize=(20,10)) \n",
    "df['SDOT_COLCODE'].value_counts().plot(ax=ax[0], kind='bar', width=0.4, color=['#5cb85c'])\n",
    "ax[0].set_title('SDOT_COLCODE Feature', fontsize=15)\n",
    "ax[0].tick_params(axis=\"x\", labelsize=8)\n",
    "ax[0].spines['top'].set_visible(False)\n",
    "ax[0].spines['right'].set_visible(False)\n",
    "ax[0].spines['left'].set_visible(False)\n",
    "xticklabels = df['SDOT_COLCODE'].value_counts().index\n",
    "ax[0].set_xticklabels(xticklabels, rotation = 0);\n",
    "#-------\n",
    "df['ST_COLCODE'].value_counts().plot(ax=ax[1], kind='bar', width=0.4, color=['#5cb85c'])\n",
    "ax[1].set_title('ST_COLCODE Feature', fontsize=15)\n",
    "ax[1].tick_params(axis=\"x\", labelsize=10)\n",
    "ax[1].spines['top'].set_visible(False)\n",
    "ax[1].spines['right'].set_visible(False)\n",
    "ax[1].spines['left'].set_visible(False)\n",
    "xticklabels = df['ST_COLCODE'].value_counts().index\n",
    "ax[1].set_xticklabels(xticklabels, rotation = 0);"
   ]
  },
  {
   "cell_type": "markdown",
   "metadata": {},
   "source": [
    "#### ROADCONDITION, WEATHER  FEATURES COMPARISON"
   ]
  },
  {
   "cell_type": "code",
   "execution_count": 11,
   "metadata": {},
   "outputs": [
    {
     "data": {
      "image/png": "[encoded data removed]",
      "text/plain": [
       "<Figure size 1440x720 with 2 Axes>"
      ]
     },
     "metadata": {
      "needs_background": "light"
     },
     "output_type": "display_data"
    }
   ],
   "source": [
    "fig, ax = plt.subplots(nrows=2, ncols=1, figsize=(20,10)) \n",
    "df['WEATHER'].value_counts().plot(ax=ax[0], kind='bar', width=0.4, color=['#5cb85c'])\n",
    "ax[0].set_title('WEATHER Feature', fontsize=15)\n",
    "ax[0].tick_params(axis=\"x\", labelsize=8)\n",
    "ax[0].spines['top'].set_visible(False)\n",
    "ax[0].spines['right'].set_visible(False)\n",
    "ax[0].spines['left'].set_visible(False)\n",
    "xticklabels = df['WEATHER'].value_counts().index\n",
    "ax[0].set_xticklabels(xticklabels, rotation = 0)\n",
    "#-------\n",
    "df['ROADCOND'].value_counts().plot(ax=ax[1], kind='bar', width=0.4, color=['#5cb85c'])\n",
    "ax[1].set_title('ROADCOND Feature', fontsize=15)\n",
    "ax[1].tick_params(axis=\"x\", labelsize=10)\n",
    "ax[1].spines['top'].set_visible(False)\n",
    "ax[1].spines['right'].set_visible(False)\n",
    "ax[1].spines['left'].set_visible(False)\n",
    "xticklabels = df['ROADCOND'].value_counts().index\n",
    "ax[1].set_xticklabels(xticklabels, rotation = 0);"
   ]
  },
  {
   "cell_type": "markdown",
   "metadata": {},
   "source": [
    "#### PERSONCOUNT and VEHCOUNT"
   ]
  },
  {
   "cell_type": "code",
   "execution_count": 12,
   "metadata": {},
   "outputs": [
    {
     "data": {
      "image/png": "[encoded data removed]",
      "text/plain": [
       "<Figure size 1440x720 with 1 Axes>"
      ]
     },
     "metadata": {
      "needs_background": "light"
     },
     "output_type": "display_data"
    }
   ],
   "source": [
    "fig, ax = plt.subplots(nrows=1, ncols=1, figsize=(20,10)) \n",
    "df[['PERSONCOUNT','VEHCOUNT']].plot(kind='box',ax=ax, vert=False)\n",
    "ax.set_title('PERSONCOUNT and VEHCOUNT Feature', fontsize=18)\n",
    "ax.tick_params(axis=\"x\", labelsize=12)\n",
    "ax.tick_params(axis=\"y\", labelsize=12)\n",
    "ax.spines['top'].set_visible(False)\n",
    "ax.spines['right'].set_visible(False)\n",
    "ax.spines['left'].set_visible(True)\n",
    "#xticklabels = df['PERSONCOUNT'].value_counts().index\n",
    "#-------\n"
   ]
  },
  {
   "cell_type": "markdown",
   "metadata": {},
   "source": [
    "#### UNDERINFL Feature"
   ]
  },
  {
   "cell_type": "code",
   "execution_count": 13,
   "metadata": {},
   "outputs": [
    {
     "data": {
      "image/png": "[encoded data removed]",
      "text/plain": [
       "<Figure size 864x432 with 1 Axes>"
      ]
     },
     "metadata": {
      "needs_background": "light"
     },
     "output_type": "display_data"
    }
   ],
   "source": [
    "ax = df['UNDERINFL'].value_counts().plot(kind='bar', figsize=(12, 6), width=0.4, color=['#5cb85c'])\n",
    "#fig, axes = plt.subplots(nrows=1, ncols=1, figsize=(14,5)) \n",
    "ax.set_title('UNDERINFL  feature balance', fontsize=15)\n",
    "ax.tick_params(axis=\"x\", labelsize=12)\n",
    "ax.spines['top'].set_visible(False)\n",
    "ax.spines['right'].set_visible(False)\n",
    "ax.spines['left'].set_visible(False)\n",
    "ax.get_yaxis().set_ticks([])\n",
    "xticklabels =df['UNDERINFL'].value_counts().index\n",
    "for p in ax.patches:\n",
    "    ax.annotate('{:.0f}'.format(p.get_height()), (p.get_x()+0.005, p.get_height()+4000),fontsize=14)\n",
    "ax.set_xticklabels(xticklabels, rotation = 0);"
   ]
  },
  {
   "cell_type": "code",
   "execution_count": 14,
   "metadata": {},
   "outputs": [],
   "source": [
    "features = ['SEVERITYCODE','X','Y', 'COLLISIONTYPE', 'VEHCOUNT', 'PERSONCOUNT', 'INCDTTM', 'JUNCTIONTYPE', 'UNDERINFL', 'ROADCOND', 'LIGHTCOND', 'ST_COLCODE']"
   ]
  },
  {
   "cell_type": "code",
   "execution_count": 15,
   "metadata": {},
   "outputs": [
    {
     "data": {
      "text/html": [
       "<div>\n",
       "<style scoped>\n",
       "    .dataframe tbody tr th:only-of-type {\n",
       "        vertical-align: middle;\n",
       "    }\n",
       "\n",
       "    .dataframe tbody tr th {\n",
       "        vertical-align: top;\n",
       "    }\n",
       "\n",
       "    .dataframe thead th {\n",
       "        text-align: right;\n",
       "    }\n",
       "</style>\n",
       "<table border=\"1\" class=\"dataframe\">\n",
       "  <thead>\n",
       "    <tr style=\"text-align: right;\">\n",
       "      <th></th>\n",
       "      <th>SEVERITYCODE</th>\n",
       "      <th>X</th>\n",
       "      <th>Y</th>\n",
       "      <th>COLLISIONTYPE</th>\n",
       "      <th>VEHCOUNT</th>\n",
       "      <th>PERSONCOUNT</th>\n",
       "      <th>INCDTTM</th>\n",
       "      <th>JUNCTIONTYPE</th>\n",
       "      <th>UNDERINFL</th>\n",
       "      <th>ROADCOND</th>\n",
       "      <th>LIGHTCOND</th>\n",
       "      <th>ST_COLCODE</th>\n",
       "    </tr>\n",
       "  </thead>\n",
       "  <tbody>\n",
       "    <tr>\n",
       "      <th>count</th>\n",
       "      <td>194673.000000</td>\n",
       "      <td>189339.000000</td>\n",
       "      <td>189339.000000</td>\n",
       "      <td>189769</td>\n",
       "      <td>194673.000000</td>\n",
       "      <td>194673.000000</td>\n",
       "      <td>194673</td>\n",
       "      <td>188344</td>\n",
       "      <td>189789</td>\n",
       "      <td>189661</td>\n",
       "      <td>189503</td>\n",
       "      <td>194655</td>\n",
       "    </tr>\n",
       "    <tr>\n",
       "      <th>unique</th>\n",
       "      <td>NaN</td>\n",
       "      <td>NaN</td>\n",
       "      <td>NaN</td>\n",
       "      <td>10</td>\n",
       "      <td>NaN</td>\n",
       "      <td>NaN</td>\n",
       "      <td>162058</td>\n",
       "      <td>7</td>\n",
       "      <td>4</td>\n",
       "      <td>9</td>\n",
       "      <td>9</td>\n",
       "      <td>63</td>\n",
       "    </tr>\n",
       "    <tr>\n",
       "      <th>top</th>\n",
       "      <td>NaN</td>\n",
       "      <td>NaN</td>\n",
       "      <td>NaN</td>\n",
       "      <td>Parked Car</td>\n",
       "      <td>NaN</td>\n",
       "      <td>NaN</td>\n",
       "      <td>11/2/2006</td>\n",
       "      <td>Mid-Block (not related to intersection)</td>\n",
       "      <td>N</td>\n",
       "      <td>Dry</td>\n",
       "      <td>Daylight</td>\n",
       "      <td>32</td>\n",
       "    </tr>\n",
       "    <tr>\n",
       "      <th>freq</th>\n",
       "      <td>NaN</td>\n",
       "      <td>NaN</td>\n",
       "      <td>NaN</td>\n",
       "      <td>47987</td>\n",
       "      <td>NaN</td>\n",
       "      <td>NaN</td>\n",
       "      <td>96</td>\n",
       "      <td>89800</td>\n",
       "      <td>100274</td>\n",
       "      <td>124510</td>\n",
       "      <td>116137</td>\n",
       "      <td>44421</td>\n",
       "    </tr>\n",
       "    <tr>\n",
       "      <th>mean</th>\n",
       "      <td>1.298901</td>\n",
       "      <td>-122.330518</td>\n",
       "      <td>47.619543</td>\n",
       "      <td>NaN</td>\n",
       "      <td>1.920780</td>\n",
       "      <td>2.444427</td>\n",
       "      <td>NaN</td>\n",
       "      <td>NaN</td>\n",
       "      <td>NaN</td>\n",
       "      <td>NaN</td>\n",
       "      <td>NaN</td>\n",
       "      <td>NaN</td>\n",
       "    </tr>\n",
       "    <tr>\n",
       "      <th>std</th>\n",
       "      <td>0.457778</td>\n",
       "      <td>0.029976</td>\n",
       "      <td>0.056157</td>\n",
       "      <td>NaN</td>\n",
       "      <td>0.631047</td>\n",
       "      <td>1.345929</td>\n",
       "      <td>NaN</td>\n",
       "      <td>NaN</td>\n",
       "      <td>NaN</td>\n",
       "      <td>NaN</td>\n",
       "      <td>NaN</td>\n",
       "      <td>NaN</td>\n",
       "    </tr>\n",
       "    <tr>\n",
       "      <th>min</th>\n",
       "      <td>1.000000</td>\n",
       "      <td>-122.419091</td>\n",
       "      <td>47.495573</td>\n",
       "      <td>NaN</td>\n",
       "      <td>0.000000</td>\n",
       "      <td>0.000000</td>\n",
       "      <td>NaN</td>\n",
       "      <td>NaN</td>\n",
       "      <td>NaN</td>\n",
       "      <td>NaN</td>\n",
       "      <td>NaN</td>\n",
       "      <td>NaN</td>\n",
       "    </tr>\n",
       "    <tr>\n",
       "      <th>25%</th>\n",
       "      <td>1.000000</td>\n",
       "      <td>-122.348673</td>\n",
       "      <td>47.575956</td>\n",
       "      <td>NaN</td>\n",
       "      <td>2.000000</td>\n",
       "      <td>2.000000</td>\n",
       "      <td>NaN</td>\n",
       "      <td>NaN</td>\n",
       "      <td>NaN</td>\n",
       "      <td>NaN</td>\n",
       "      <td>NaN</td>\n",
       "      <td>NaN</td>\n",
       "    </tr>\n",
       "    <tr>\n",
       "      <th>50%</th>\n",
       "      <td>1.000000</td>\n",
       "      <td>-122.330224</td>\n",
       "      <td>47.615369</td>\n",
       "      <td>NaN</td>\n",
       "      <td>2.000000</td>\n",
       "      <td>2.000000</td>\n",
       "      <td>NaN</td>\n",
       "      <td>NaN</td>\n",
       "      <td>NaN</td>\n",
       "      <td>NaN</td>\n",
       "      <td>NaN</td>\n",
       "      <td>NaN</td>\n",
       "    </tr>\n",
       "    <tr>\n",
       "      <th>75%</th>\n",
       "      <td>2.000000</td>\n",
       "      <td>-122.311937</td>\n",
       "      <td>47.663664</td>\n",
       "      <td>NaN</td>\n",
       "      <td>2.000000</td>\n",
       "      <td>3.000000</td>\n",
       "      <td>NaN</td>\n",
       "      <td>NaN</td>\n",
       "      <td>NaN</td>\n",
       "      <td>NaN</td>\n",
       "      <td>NaN</td>\n",
       "      <td>NaN</td>\n",
       "    </tr>\n",
       "    <tr>\n",
       "      <th>max</th>\n",
       "      <td>2.000000</td>\n",
       "      <td>-122.238949</td>\n",
       "      <td>47.734142</td>\n",
       "      <td>NaN</td>\n",
       "      <td>12.000000</td>\n",
       "      <td>81.000000</td>\n",
       "      <td>NaN</td>\n",
       "      <td>NaN</td>\n",
       "      <td>NaN</td>\n",
       "      <td>NaN</td>\n",
       "      <td>NaN</td>\n",
       "      <td>NaN</td>\n",
       "    </tr>\n",
       "  </tbody>\n",
       "</table>\n",
       "</div>"
      ],
      "text/plain": [
       "         SEVERITYCODE              X              Y COLLISIONTYPE  \\\n",
       "count   194673.000000  189339.000000  189339.000000        189769   \n",
       "unique            NaN            NaN            NaN            10   \n",
       "top               NaN            NaN            NaN    Parked Car   \n",
       "freq              NaN            NaN            NaN         47987   \n",
       "mean         1.298901    -122.330518      47.619543           NaN   \n",
       "std          0.457778       0.029976       0.056157           NaN   \n",
       "min          1.000000    -122.419091      47.495573           NaN   \n",
       "25%          1.000000    -122.348673      47.575956           NaN   \n",
       "50%          1.000000    -122.330224      47.615369           NaN   \n",
       "75%          2.000000    -122.311937      47.663664           NaN   \n",
       "max          2.000000    -122.238949      47.734142           NaN   \n",
       "\n",
       "             VEHCOUNT    PERSONCOUNT    INCDTTM  \\\n",
       "count   194673.000000  194673.000000     194673   \n",
       "unique            NaN            NaN     162058   \n",
       "top               NaN            NaN  11/2/2006   \n",
       "freq              NaN            NaN         96   \n",
       "mean         1.920780       2.444427        NaN   \n",
       "std          0.631047       1.345929        NaN   \n",
       "min          0.000000       0.000000        NaN   \n",
       "25%          2.000000       2.000000        NaN   \n",
       "50%          2.000000       2.000000        NaN   \n",
       "75%          2.000000       3.000000        NaN   \n",
       "max         12.000000      81.000000        NaN   \n",
       "\n",
       "                                   JUNCTIONTYPE UNDERINFL ROADCOND LIGHTCOND  \\\n",
       "count                                    188344    189789   189661    189503   \n",
       "unique                                        7         4        9         9   \n",
       "top     Mid-Block (not related to intersection)         N      Dry  Daylight   \n",
       "freq                                      89800    100274   124510    116137   \n",
       "mean                                        NaN       NaN      NaN       NaN   \n",
       "std                                         NaN       NaN      NaN       NaN   \n",
       "min                                         NaN       NaN      NaN       NaN   \n",
       "25%                                         NaN       NaN      NaN       NaN   \n",
       "50%                                         NaN       NaN      NaN       NaN   \n",
       "75%                                         NaN       NaN      NaN       NaN   \n",
       "max                                         NaN       NaN      NaN       NaN   \n",
       "\n",
       "       ST_COLCODE  \n",
       "count      194655  \n",
       "unique         63  \n",
       "top            32  \n",
       "freq        44421  \n",
       "mean          NaN  \n",
       "std           NaN  \n",
       "min           NaN  \n",
       "25%           NaN  \n",
       "50%           NaN  \n",
       "75%           NaN  \n",
       "max           NaN  "
      ]
     },
     "execution_count": 15,
     "metadata": {},
     "output_type": "execute_result"
    }
   ],
   "source": [
    "df[features].describe(include='all')"
   ]
  },
  {
   "cell_type": "markdown",
   "metadata": {},
   "source": [
    "# DATA PREPARATION"
   ]
  },
  {
   "cell_type": "markdown",
   "metadata": {},
   "source": [
    "#### Get the features and target to be used from the general DataSet"
   ]
  },
  {
   "cell_type": "code",
   "execution_count": 16,
   "metadata": {},
   "outputs": [
    {
     "data": {
      "text/html": [
       "<div>\n",
       "<style scoped>\n",
       "    .dataframe tbody tr th:only-of-type {\n",
       "        vertical-align: middle;\n",
       "    }\n",
       "\n",
       "    .dataframe tbody tr th {\n",
       "        vertical-align: top;\n",
       "    }\n",
       "\n",
       "    .dataframe thead th {\n",
       "        text-align: right;\n",
       "    }\n",
       "</style>\n",
       "<table border=\"1\" class=\"dataframe\">\n",
       "  <thead>\n",
       "    <tr style=\"text-align: right;\">\n",
       "      <th></th>\n",
       "      <th>SEVERITYCODE</th>\n",
       "      <th>X</th>\n",
       "      <th>Y</th>\n",
       "      <th>COLLISIONTYPE</th>\n",
       "      <th>VEHCOUNT</th>\n",
       "      <th>PERSONCOUNT</th>\n",
       "      <th>INCDTTM</th>\n",
       "      <th>JUNCTIONTYPE</th>\n",
       "      <th>UNDERINFL</th>\n",
       "      <th>ROADCOND</th>\n",
       "      <th>LIGHTCOND</th>\n",
       "      <th>ST_COLCODE</th>\n",
       "    </tr>\n",
       "  </thead>\n",
       "  <tbody>\n",
       "    <tr>\n",
       "      <th>0</th>\n",
       "      <td>2</td>\n",
       "      <td>-122.323148</td>\n",
       "      <td>47.703140</td>\n",
       "      <td>Angles</td>\n",
       "      <td>2</td>\n",
       "      <td>2</td>\n",
       "      <td>3/27/2013 2:54:00 PM</td>\n",
       "      <td>At Intersection (intersection related)</td>\n",
       "      <td>N</td>\n",
       "      <td>Wet</td>\n",
       "      <td>Daylight</td>\n",
       "      <td>10</td>\n",
       "    </tr>\n",
       "    <tr>\n",
       "      <th>1</th>\n",
       "      <td>1</td>\n",
       "      <td>-122.347294</td>\n",
       "      <td>47.647172</td>\n",
       "      <td>Sideswipe</td>\n",
       "      <td>2</td>\n",
       "      <td>2</td>\n",
       "      <td>12/20/2006 6:55:00 PM</td>\n",
       "      <td>Mid-Block (not related to intersection)</td>\n",
       "      <td>0</td>\n",
       "      <td>Wet</td>\n",
       "      <td>Dark - Street Lights On</td>\n",
       "      <td>11</td>\n",
       "    </tr>\n",
       "    <tr>\n",
       "      <th>2</th>\n",
       "      <td>1</td>\n",
       "      <td>-122.334540</td>\n",
       "      <td>47.607871</td>\n",
       "      <td>Parked Car</td>\n",
       "      <td>3</td>\n",
       "      <td>4</td>\n",
       "      <td>11/18/2004 10:20:00 AM</td>\n",
       "      <td>Mid-Block (not related to intersection)</td>\n",
       "      <td>0</td>\n",
       "      <td>Dry</td>\n",
       "      <td>Daylight</td>\n",
       "      <td>32</td>\n",
       "    </tr>\n",
       "    <tr>\n",
       "      <th>3</th>\n",
       "      <td>1</td>\n",
       "      <td>-122.334803</td>\n",
       "      <td>47.604803</td>\n",
       "      <td>Other</td>\n",
       "      <td>3</td>\n",
       "      <td>3</td>\n",
       "      <td>3/29/2013 9:26:00 AM</td>\n",
       "      <td>Mid-Block (not related to intersection)</td>\n",
       "      <td>N</td>\n",
       "      <td>Dry</td>\n",
       "      <td>Daylight</td>\n",
       "      <td>23</td>\n",
       "    </tr>\n",
       "    <tr>\n",
       "      <th>4</th>\n",
       "      <td>2</td>\n",
       "      <td>-122.306426</td>\n",
       "      <td>47.545739</td>\n",
       "      <td>Angles</td>\n",
       "      <td>2</td>\n",
       "      <td>2</td>\n",
       "      <td>1/28/2004 8:04:00 AM</td>\n",
       "      <td>At Intersection (intersection related)</td>\n",
       "      <td>0</td>\n",
       "      <td>Wet</td>\n",
       "      <td>Daylight</td>\n",
       "      <td>10</td>\n",
       "    </tr>\n",
       "  </tbody>\n",
       "</table>\n",
       "</div>"
      ],
      "text/plain": [
       "   SEVERITYCODE           X          Y COLLISIONTYPE  VEHCOUNT  PERSONCOUNT  \\\n",
       "0             2 -122.323148  47.703140        Angles         2            2   \n",
       "1             1 -122.347294  47.647172     Sideswipe         2            2   \n",
       "2             1 -122.334540  47.607871    Parked Car         3            4   \n",
       "3             1 -122.334803  47.604803         Other         3            3   \n",
       "4             2 -122.306426  47.545739        Angles         2            2   \n",
       "\n",
       "                  INCDTTM                             JUNCTIONTYPE UNDERINFL  \\\n",
       "0    3/27/2013 2:54:00 PM   At Intersection (intersection related)         N   \n",
       "1   12/20/2006 6:55:00 PM  Mid-Block (not related to intersection)         0   \n",
       "2  11/18/2004 10:20:00 AM  Mid-Block (not related to intersection)         0   \n",
       "3    3/29/2013 9:26:00 AM  Mid-Block (not related to intersection)         N   \n",
       "4    1/28/2004 8:04:00 AM   At Intersection (intersection related)         0   \n",
       "\n",
       "  ROADCOND                LIGHTCOND ST_COLCODE  \n",
       "0      Wet                 Daylight         10  \n",
       "1      Wet  Dark - Street Lights On         11  \n",
       "2      Dry                 Daylight         32  \n",
       "3      Dry                 Daylight         23  \n",
       "4      Wet                 Daylight         10  "
      ]
     },
     "execution_count": 16,
     "metadata": {},
     "output_type": "execute_result"
    }
   ],
   "source": [
    "churn_df = df[features].copy()\n",
    "churn_df.head()"
   ]
  },
  {
   "cell_type": "markdown",
   "metadata": {},
   "source": [
    "#### Explore the datatypes for each feature"
   ]
  },
  {
   "cell_type": "code",
   "execution_count": 17,
   "metadata": {},
   "outputs": [
    {
     "data": {
      "text/plain": [
       "SEVERITYCODE       int64\n",
       "X                float64\n",
       "Y                float64\n",
       "COLLISIONTYPE     object\n",
       "VEHCOUNT           int64\n",
       "PERSONCOUNT        int64\n",
       "INCDTTM           object\n",
       "JUNCTIONTYPE      object\n",
       "UNDERINFL         object\n",
       "ROADCOND          object\n",
       "LIGHTCOND         object\n",
       "ST_COLCODE        object\n",
       "dtype: object"
      ]
     },
     "execution_count": 17,
     "metadata": {},
     "output_type": "execute_result"
    }
   ],
   "source": [
    "churn_df.dtypes"
   ]
  },
  {
   "cell_type": "markdown",
   "metadata": {},
   "source": [
    "#### Explore the Nan values"
   ]
  },
  {
   "cell_type": "code",
   "execution_count": 18,
   "metadata": {},
   "outputs": [
    {
     "data": {
      "text/plain": [
       "SEVERITYCODE     0.000000\n",
       "X                2.739979\n",
       "Y                2.739979\n",
       "COLLISIONTYPE    2.519096\n",
       "VEHCOUNT         0.000000\n",
       "PERSONCOUNT      0.000000\n",
       "INCDTTM          0.000000\n",
       "JUNCTIONTYPE     3.251093\n",
       "UNDERINFL        2.508822\n",
       "ROADCOND         2.574574\n",
       "LIGHTCOND        2.655736\n",
       "ST_COLCODE       0.009246\n",
       "dtype: float64"
      ]
     },
     "execution_count": 18,
     "metadata": {},
     "output_type": "execute_result"
    }
   ],
   "source": [
    "churn_df.isnull().sum()/len(df)*100"
   ]
  },
  {
   "cell_type": "markdown",
   "metadata": {},
   "source": [
    "### Total rows with Nan Values"
   ]
  },
  {
   "cell_type": "code",
   "execution_count": 19,
   "metadata": {},
   "outputs": [
    {
     "name": "stdout",
     "output_type": "stream",
     "text": [
      "%Nan values in the Dataset: 19.00\n"
     ]
    }
   ],
   "source": [
    "print('%Nan values in the Dataset: {:.2f}'.format(churn_df.isnull().sum().sum()/len(df)*100))"
   ]
  },
  {
   "cell_type": "markdown",
   "metadata": {},
   "source": [
    "### Drop the Nan values from the Dataset as strategy to clean the null values"
   ]
  },
  {
   "cell_type": "code",
   "execution_count": 20,
   "metadata": {},
   "outputs": [],
   "source": [
    "churn_df.dropna(inplace=True)"
   ]
  },
  {
   "cell_type": "code",
   "execution_count": 21,
   "metadata": {},
   "outputs": [
    {
     "data": {
      "text/plain": [
       "(180167, 12)"
      ]
     },
     "execution_count": 21,
     "metadata": {},
     "output_type": "execute_result"
    }
   ],
   "source": [
    "churn_df.shape"
   ]
  },
  {
   "cell_type": "markdown",
   "metadata": {},
   "source": [
    "### PERSONCOUNT and VEHCOUNT FEATURE Processing"
   ]
  },
  {
   "cell_type": "code",
   "execution_count": 22,
   "metadata": {},
   "outputs": [
    {
     "data": {
      "image/png": "[encoded data removed]",
      "text/plain": [
       "<Figure size 1080x432 with 10 Axes>"
      ]
     },
     "metadata": {
      "needs_background": "light"
     },
     "output_type": "display_data"
    }
   ],
   "source": [
    "bins = np.linspace(churn_df.PERSONCOUNT.min(), churn_df.PERSONCOUNT.max(), 10)\n",
    "g = sns.FacetGrid(churn_df, col=\"COLLISIONTYPE\", hue=\"SEVERITYCODE\", palette=\"Set2\", col_wrap=5)\n",
    "g.map(plt.hist, 'PERSONCOUNT', bins=bins, ec=\"k\")\n",
    "\n",
    "g.axes[-1].legend();"
   ]
  },
  {
   "cell_type": "markdown",
   "metadata": {},
   "source": [
    "### Remove outliers from the PERSONCOUNT Feature"
   ]
  },
  {
   "cell_type": "code",
   "execution_count": 23,
   "metadata": {},
   "outputs": [
    {
     "data": {
      "image/png": "[encoded data removed]",
      "text/plain": [
       "<Figure size 432x288 with 1 Axes>"
      ]
     },
     "metadata": {
      "needs_background": "light"
     },
     "output_type": "display_data"
    }
   ],
   "source": [
    "#Calculate range to exclude the outliers\n",
    "x = churn_df.PERSONCOUNT\n",
    "upper, lower = np.percentile(x, [1,99])\n",
    "y = np.clip(x, upper, lower)\n",
    "indexPersoncnt = churn_df[ churn_df['PERSONCOUNT'] != y].index\n",
    "churn_df.drop(indexPersoncnt , inplace=True)\n",
    "churn_df.PERSONCOUNT.hist();"
   ]
  },
  {
   "cell_type": "markdown",
   "metadata": {},
   "source": [
    "### VEHCOUNT FEATURE Processing"
   ]
  },
  {
   "cell_type": "code",
   "execution_count": 24,
   "metadata": {},
   "outputs": [
    {
     "data": {
      "image/png": "[encoded data removed]",
      "text/plain": [
       "<Figure size 1080x432 with 10 Axes>"
      ]
     },
     "metadata": {
      "needs_background": "light"
     },
     "output_type": "display_data"
    }
   ],
   "source": [
    "bins = np.linspace(churn_df.VEHCOUNT.min(), churn_df.VEHCOUNT.max(), 10)\n",
    "g = sns.FacetGrid(churn_df, col=\"COLLISIONTYPE\", hue=\"SEVERITYCODE\", palette=\"Set2\", col_wrap=5)\n",
    "g.map(plt.hist, 'VEHCOUNT', bins=bins, ec=\"k\")\n",
    "\n",
    "g.axes[-1].legend();"
   ]
  },
  {
   "cell_type": "markdown",
   "metadata": {},
   "source": [
    "### Remove outliers from the VEHCOUNT Feature"
   ]
  },
  {
   "cell_type": "code",
   "execution_count": 25,
   "metadata": {},
   "outputs": [
    {
     "data": {
      "image/png": "[encoded data removed]",
      "text/plain": [
       "<Figure size 432x288 with 1 Axes>"
      ]
     },
     "metadata": {
      "needs_background": "light"
     },
     "output_type": "display_data"
    }
   ],
   "source": [
    "#Calculate range to exclude the outliers\n",
    "x = churn_df.VEHCOUNT\n",
    "upper, lower = np.percentile(x, [1,99])\n",
    "y = np.clip(x, upper, lower)\n",
    "indexVehcnt = churn_df[ churn_df['VEHCOUNT'] != y].index\n",
    "churn_df.drop(indexVehcnt , inplace=True)\n",
    "churn_df.VEHCOUNT.hist();"
   ]
  },
  {
   "cell_type": "markdown",
   "metadata": {},
   "source": [
    "### Normalize de X and Y Coordinates"
   ]
  },
  {
   "cell_type": "code",
   "execution_count": 26,
   "metadata": {},
   "outputs": [
    {
     "data": {
      "image/png": "[encoded data removed]",
      "text/plain": [
       "<Figure size 432x288 with 1 Axes>"
      ]
     },
     "metadata": {
      "needs_background": "light"
     },
     "output_type": "display_data"
    }
   ],
   "source": [
    "#from sklearn.preprocessing import MinMaxScaler\n",
    "#scaler = MinMaxScaler()\n",
    "#long_rs = churn_df.Y.to_numpy().reshape(-1, 1)\n",
    "#churn_df.Y = scaler.fit_transform(long_rs)\n",
    "churn_df.Y.hist();\n"
   ]
  },
  {
   "cell_type": "code",
   "execution_count": 27,
   "metadata": {},
   "outputs": [
    {
     "data": {
      "image/png": "[encoded data removed]",
      "text/plain": [
       "<Figure size 432x288 with 1 Axes>"
      ]
     },
     "metadata": {
      "needs_background": "light"
     },
     "output_type": "display_data"
    }
   ],
   "source": [
    "#scaler = MinMaxScaler()\n",
    "#lat_rs = churn_df.X.to_numpy().reshape(-1, 1)\n",
    "#churn_df.X = scaler.fit_transform(lat_rs)\n",
    "churn_df.X.hist();"
   ]
  },
  {
   "cell_type": "markdown",
   "metadata": {},
   "source": [
    "### Code the collision type"
   ]
  },
  {
   "cell_type": "code",
   "execution_count": 28,
   "metadata": {},
   "outputs": [
    {
     "data": {
      "text/plain": [
       "Parked Car    42487\n",
       "Angles        34055\n",
       "Rear Ended    32310\n",
       "Other         21832\n",
       "Sideswipe     17671\n",
       "Left Turn     13489\n",
       "Pedestrian     6469\n",
       "Cycles         5141\n",
       "Right Turn     2858\n",
       "Head On        1953\n",
       "Name: COLLISIONTYPE, dtype: int64"
      ]
     },
     "execution_count": 28,
     "metadata": {},
     "output_type": "execute_result"
    }
   ],
   "source": [
    "churn_df['COLLISIONTYPE'].value_counts()"
   ]
  },
  {
   "cell_type": "code",
   "execution_count": 29,
   "metadata": {},
   "outputs": [
    {
     "data": {
      "text/plain": [
       "array([['Angles'],\n",
       "       ['Sideswipe'],\n",
       "       ['Parked Car'],\n",
       "       ...,\n",
       "       ['Left Turn'],\n",
       "       ['Cycles'],\n",
       "       ['Rear Ended']], dtype=object)"
      ]
     },
     "execution_count": 29,
     "metadata": {},
     "output_type": "execute_result"
    }
   ],
   "source": [
    "coltype = churn_df[['COLLISIONTYPE']].values\n",
    "coltype"
   ]
  },
  {
   "cell_type": "code",
   "execution_count": 30,
   "metadata": {},
   "outputs": [
    {
     "data": {
      "image/png": "[encoded data removed]",
      "text/plain": [
       "<Figure size 432x288 with 1 Axes>"
      ]
     },
     "metadata": {
      "needs_background": "light"
     },
     "output_type": "display_data"
    }
   ],
   "source": [
    "from sklearn import preprocessing\n",
    "le_coltype = preprocessing.LabelEncoder()\n",
    "le_coltype.fit(['Parked Car','Angles','Rear Ended', 'Other', 'Sideswipe','Left Turn', 'Pedestrian', 'Cycles', 'Right Turn', 'Head On'])\n",
    "churn_df['COLLISIONTYPE']=le_coltype.transform(coltype[:,0]) \n",
    "churn_df.COLLISIONTYPE.hist();"
   ]
  },
  {
   "cell_type": "markdown",
   "metadata": {},
   "source": [
    "### Convert the INCDTTM to day of the week"
   ]
  },
  {
   "cell_type": "code",
   "execution_count": 31,
   "metadata": {},
   "outputs": [],
   "source": [
    "churn_df['DayofWeek'] = pd.to_datetime(churn_df['INCDTTM']).dt.dayofweek\n",
    "churn_df.drop(columns=['INCDTTM'], inplace=True)"
   ]
  },
  {
   "cell_type": "code",
   "execution_count": 32,
   "metadata": {},
   "outputs": [
    {
     "data": {
      "image/png": "[encoded data removed]",
      "text/plain": [
       "<Figure size 1080x432 with 10 Axes>"
      ]
     },
     "metadata": {
      "needs_background": "light"
     },
     "output_type": "display_data"
    }
   ],
   "source": [
    "bins = np.linspace(churn_df.DayofWeek.min(), churn_df.DayofWeek.max(), 10)\n",
    "g = sns.FacetGrid(churn_df, col=\"COLLISIONTYPE\", hue=\"SEVERITYCODE\", palette=\"Set2\", col_wrap=5)\n",
    "g.map(plt.hist, 'DayofWeek', bins=bins, ec=\"k\")\n",
    "\n",
    "g.axes[-1].legend();"
   ]
  },
  {
   "cell_type": "markdown",
   "metadata": {},
   "source": [
    "### Code the JUNCTIONTYPE Feature"
   ]
  },
  {
   "cell_type": "code",
   "execution_count": 33,
   "metadata": {},
   "outputs": [
    {
     "data": {
      "text/plain": [
       "Mid-Block (not related to intersection)              83576\n",
       "At Intersection (intersection related)               60372\n",
       "Mid-Block (but intersection related)                 21805\n",
       "Driveway Junction                                    10363\n",
       "At Intersection (but not related to intersection)     2008\n",
       "Ramp Junction                                          136\n",
       "Unknown                                                  5\n",
       "Name: JUNCTIONTYPE, dtype: int64"
      ]
     },
     "execution_count": 33,
     "metadata": {},
     "output_type": "execute_result"
    }
   ],
   "source": [
    "churn_df.JUNCTIONTYPE.value_counts()"
   ]
  },
  {
   "cell_type": "code",
   "execution_count": 34,
   "metadata": {},
   "outputs": [
    {
     "data": {
      "text/plain": [
       "array([['At Intersection (intersection related)'],\n",
       "       ['Mid-Block (not related to intersection)'],\n",
       "       ['Mid-Block (not related to intersection)'],\n",
       "       ...,\n",
       "       ['At Intersection (intersection related)'],\n",
       "       ['At Intersection (intersection related)'],\n",
       "       ['Mid-Block (not related to intersection)']], dtype=object)"
      ]
     },
     "execution_count": 34,
     "metadata": {},
     "output_type": "execute_result"
    }
   ],
   "source": [
    "juntype = churn_df[['JUNCTIONTYPE']].values\n",
    "juntype\n"
   ]
  },
  {
   "cell_type": "code",
   "execution_count": 35,
   "metadata": {},
   "outputs": [
    {
     "data": {
      "image/png": "[encoded data removed]",
      "text/plain": [
       "<Figure size 432x288 with 1 Axes>"
      ]
     },
     "metadata": {
      "needs_background": "light"
     },
     "output_type": "display_data"
    }
   ],
   "source": [
    "le_juntype = preprocessing.LabelEncoder()\n",
    "le_juntype.fit(['At Intersection (but not related to intersection)','Unknown','Ramp Junction','Driveway Junction','Mid-Block (but intersection related)','Mid-Block (not related to intersection)', 'At Intersection (intersection related)'])\n",
    "churn_df['JUNCTIONTYPE']=le_juntype.transform(juntype[:,0]) \n",
    "churn_df.JUNCTIONTYPE.hist();"
   ]
  },
  {
   "cell_type": "markdown",
   "metadata": {},
   "source": [
    "### Code the feature UNDERINFL "
   ]
  },
  {
   "cell_type": "code",
   "execution_count": 36,
   "metadata": {},
   "outputs": [
    {
     "data": {
      "text/plain": [
       "N    92838\n",
       "0    76837\n",
       "Y     4824\n",
       "1     3766\n",
       "Name: UNDERINFL, dtype: int64"
      ]
     },
     "execution_count": 36,
     "metadata": {},
     "output_type": "execute_result"
    }
   ],
   "source": [
    "churn_df.UNDERINFL.value_counts()"
   ]
  },
  {
   "cell_type": "markdown",
   "metadata": {},
   "source": [
    "#### Replae N with 0, Y with 1 and convert to number"
   ]
  },
  {
   "cell_type": "code",
   "execution_count": 37,
   "metadata": {},
   "outputs": [],
   "source": [
    "churn_df.replace({'UNDERINFL': {'Y': 1, 'N': 0}}, inplace=True)\n",
    "churn_df['UNDERINFL'] = churn_df['UNDERINFL'].astype('int')"
   ]
  },
  {
   "cell_type": "code",
   "execution_count": 38,
   "metadata": {},
   "outputs": [
    {
     "data": {
      "image/png": "[encoded data removed]",
      "text/plain": [
       "<Figure size 432x288 with 1 Axes>"
      ]
     },
     "metadata": {
      "needs_background": "light"
     },
     "output_type": "display_data"
    }
   ],
   "source": [
    "churn_df.UNDERINFL.hist();"
   ]
  },
  {
   "cell_type": "markdown",
   "metadata": {},
   "source": [
    "### Code ROADCOND Feature"
   ]
  },
  {
   "cell_type": "code",
   "execution_count": 39,
   "metadata": {},
   "outputs": [
    {
     "data": {
      "text/plain": [
       "Dry               119312\n",
       "Wet                45151\n",
       "Unknown            11385\n",
       "Ice                 1141\n",
       "Snow/Slush           958\n",
       "Other                112\n",
       "Standing Water        98\n",
       "Sand/Mud/Dirt         60\n",
       "Oil                   48\n",
       "Name: ROADCOND, dtype: int64"
      ]
     },
     "execution_count": 39,
     "metadata": {},
     "output_type": "execute_result"
    }
   ],
   "source": [
    "churn_df.ROADCOND.value_counts()"
   ]
  },
  {
   "cell_type": "code",
   "execution_count": 40,
   "metadata": {},
   "outputs": [
    {
     "data": {
      "text/plain": [
       "array([['Wet'],\n",
       "       ['Wet'],\n",
       "       ['Dry'],\n",
       "       ...,\n",
       "       ['Dry'],\n",
       "       ['Dry'],\n",
       "       ['Wet']], dtype=object)"
      ]
     },
     "execution_count": 40,
     "metadata": {},
     "output_type": "execute_result"
    }
   ],
   "source": [
    "roadtype = churn_df[['ROADCOND']].values\n",
    "roadtype"
   ]
  },
  {
   "cell_type": "code",
   "execution_count": 41,
   "metadata": {},
   "outputs": [
    {
     "data": {
      "image/png": "[encoded data removed]",
      "text/plain": [
       "<Figure size 432x288 with 1 Axes>"
      ]
     },
     "metadata": {
      "needs_background": "light"
     },
     "output_type": "display_data"
    }
   ],
   "source": [
    "le_roadtype = preprocessing.LabelEncoder()\n",
    "le_roadtype.fit(['Dry','Wet','Unknown','Ice','Snow/Slush', 'Other','Standing Water','Sand/Mud/Dirt','Oil'])\n",
    "churn_df['ROADCOND']=le_roadtype.transform(roadtype[:,0]) \n",
    "churn_df.ROADCOND.hist();"
   ]
  },
  {
   "cell_type": "code",
   "execution_count": 42,
   "metadata": {},
   "outputs": [
    {
     "data": {
      "image/png": "[encoded data removed]",
      "text/plain": [
       "<Figure size 1080x432 with 10 Axes>"
      ]
     },
     "metadata": {
      "needs_background": "light"
     },
     "output_type": "display_data"
    }
   ],
   "source": [
    "bins = np.linspace(churn_df.ROADCOND.min(), churn_df.ROADCOND.max(), 10)\n",
    "g = sns.FacetGrid(churn_df, col=\"COLLISIONTYPE\", hue=\"SEVERITYCODE\", palette=\"Set2\", col_wrap=5)\n",
    "g.map(plt.hist, 'ROADCOND', bins=bins, ec=\"k\")\n",
    "\n",
    "g.axes[-1].legend();"
   ]
  },
  {
   "cell_type": "markdown",
   "metadata": {},
   "source": [
    "### LIGHTCOND feature processing"
   ]
  },
  {
   "cell_type": "code",
   "execution_count": 43,
   "metadata": {},
   "outputs": [
    {
     "data": {
      "text/plain": [
       "Daylight                    111090\n",
       "Dark - Street Lights On      46101\n",
       "Unknown                      10336\n",
       "Dusk                          5664\n",
       "Dawn                          2367\n",
       "Dark - No Street Lights       1404\n",
       "Dark - Street Lights Off      1122\n",
       "Other                          170\n",
       "Dark - Unknown Lighting         11\n",
       "Name: LIGHTCOND, dtype: int64"
      ]
     },
     "execution_count": 43,
     "metadata": {},
     "output_type": "execute_result"
    }
   ],
   "source": [
    "churn_df.LIGHTCOND.value_counts()"
   ]
  },
  {
   "cell_type": "code",
   "execution_count": 44,
   "metadata": {},
   "outputs": [
    {
     "data": {
      "text/plain": [
       "array([['Daylight'],\n",
       "       ['Dark - Street Lights On'],\n",
       "       ['Daylight'],\n",
       "       ...,\n",
       "       ['Daylight'],\n",
       "       ['Dusk'],\n",
       "       ['Daylight']], dtype=object)"
      ]
     },
     "execution_count": 44,
     "metadata": {},
     "output_type": "execute_result"
    }
   ],
   "source": [
    "lighttype = churn_df[['LIGHTCOND']].values\n",
    "lighttype\n"
   ]
  },
  {
   "cell_type": "code",
   "execution_count": 45,
   "metadata": {},
   "outputs": [
    {
     "data": {
      "image/png": "[encoded data removed]",
      "text/plain": [
       "<Figure size 432x288 with 1 Axes>"
      ]
     },
     "metadata": {
      "needs_background": "light"
     },
     "output_type": "display_data"
    }
   ],
   "source": [
    "le_lighttype = preprocessing.LabelEncoder()\n",
    "le_lighttype.fit(['Daylight','Dark - Street Lights On','Unknown','Dusk','Dawn','Dark - No Street Lights','Dark - Street Lights Off','Other','Dark - Unknown Lighting'])\n",
    "churn_df['LIGHTCOND']=le_lighttype.transform(lighttype[:,0]) \n",
    "churn_df.LIGHTCOND.hist();"
   ]
  },
  {
   "cell_type": "code",
   "execution_count": 46,
   "metadata": {},
   "outputs": [
    {
     "data": {
      "image/png": "[encoded data removed]",
      "text/plain": [
       "<Figure size 1080x432 with 10 Axes>"
      ]
     },
     "metadata": {
      "needs_background": "light"
     },
     "output_type": "display_data"
    }
   ],
   "source": [
    "bins = np.linspace(churn_df.LIGHTCOND.min(), churn_df.LIGHTCOND.max(), 10)\n",
    "g = sns.FacetGrid(churn_df, col=\"COLLISIONTYPE\", hue=\"SEVERITYCODE\", palette=\"Set2\", col_wrap=5)\n",
    "g.map(plt.hist, 'LIGHTCOND', bins=bins, ec=\"k\")\n",
    "\n",
    "g.axes[-1].legend();"
   ]
  },
  {
   "cell_type": "markdown",
   "metadata": {},
   "source": [
    "### ST_COLCODE feature processing"
   ]
  },
  {
   "cell_type": "code",
   "execution_count": 47,
   "metadata": {},
   "outputs": [
    {
     "data": {
      "text/plain": [
       "32    39032\n",
       "10    34055\n",
       "14    24583\n",
       "50    12160\n",
       "11    12049\n",
       "      ...  \n",
       "87        2\n",
       "43        2\n",
       "49        1\n",
       "60        1\n",
       "85        1\n",
       "Name: ST_COLCODE, Length: 61, dtype: int64"
      ]
     },
     "execution_count": 47,
     "metadata": {},
     "output_type": "execute_result"
    }
   ],
   "source": [
    "churn_df.ST_COLCODE.value_counts()"
   ]
  },
  {
   "cell_type": "code",
   "execution_count": 48,
   "metadata": {},
   "outputs": [
    {
     "data": {
      "image/png": "[encoded data removed]",
      "text/plain": [
       "<Figure size 432x288 with 1 Axes>"
      ]
     },
     "metadata": {
      "needs_background": "light"
     },
     "output_type": "display_data"
    }
   ],
   "source": [
    "churn_df['ST_COLCODE'] = churn_df['ST_COLCODE'].astype('int')\n",
    "churn_df.ST_COLCODE.hist();"
   ]
  },
  {
   "cell_type": "code",
   "execution_count": 49,
   "metadata": {},
   "outputs": [
    {
     "data": {
      "image/png": "[encoded data removed]",
      "text/plain": [
       "<Figure size 1440x288 with 2 Axes>"
      ]
     },
     "metadata": {
      "needs_background": "light"
     },
     "output_type": "display_data"
    }
   ],
   "source": [
    "f = plt.figure(figsize=(20,4))\n",
    "f.add_subplot(1,2,1)\n",
    "sns.distplot(churn_df['ST_COLCODE'])\n",
    "f.add_subplot(1,2,2)\n",
    "sns.boxplot(churn_df['ST_COLCODE']);\n"
   ]
  },
  {
   "cell_type": "markdown",
   "metadata": {},
   "source": [
    "### Check that all the feature are numerical types to start modelling"
   ]
  },
  {
   "cell_type": "code",
   "execution_count": 50,
   "metadata": {},
   "outputs": [
    {
     "data": {
      "text/plain": [
       "SEVERITYCODE       int64\n",
       "X                float64\n",
       "Y                float64\n",
       "COLLISIONTYPE      int64\n",
       "VEHCOUNT           int64\n",
       "PERSONCOUNT        int64\n",
       "JUNCTIONTYPE       int64\n",
       "UNDERINFL          int64\n",
       "ROADCOND           int64\n",
       "LIGHTCOND          int64\n",
       "ST_COLCODE         int64\n",
       "DayofWeek          int64\n",
       "dtype: object"
      ]
     },
     "execution_count": 50,
     "metadata": {},
     "output_type": "execute_result"
    }
   ],
   "source": [
    "churn_df.dtypes"
   ]
  },
  {
   "cell_type": "markdown",
   "metadata": {},
   "source": [
    "### Balance the target feature"
   ]
  },
  {
   "cell_type": "code",
   "execution_count": 51,
   "metadata": {},
   "outputs": [
    {
     "data": {
      "text/html": [
       "<div>\n",
       "<style scoped>\n",
       "    .dataframe tbody tr th:only-of-type {\n",
       "        vertical-align: middle;\n",
       "    }\n",
       "\n",
       "    .dataframe tbody tr th {\n",
       "        vertical-align: top;\n",
       "    }\n",
       "\n",
       "    .dataframe thead th {\n",
       "        text-align: right;\n",
       "    }\n",
       "</style>\n",
       "<table border=\"1\" class=\"dataframe\">\n",
       "  <thead>\n",
       "    <tr style=\"text-align: right;\">\n",
       "      <th></th>\n",
       "      <th>SEVERITYCODE</th>\n",
       "    </tr>\n",
       "  </thead>\n",
       "  <tbody>\n",
       "    <tr>\n",
       "      <th>1</th>\n",
       "      <td>123471</td>\n",
       "    </tr>\n",
       "    <tr>\n",
       "      <th>2</th>\n",
       "      <td>54794</td>\n",
       "    </tr>\n",
       "  </tbody>\n",
       "</table>\n",
       "</div>"
      ],
      "text/plain": [
       "   SEVERITYCODE\n",
       "1        123471\n",
       "2         54794"
      ]
     },
     "execution_count": 51,
     "metadata": {},
     "output_type": "execute_result"
    }
   ],
   "source": [
    "sev_code = churn_df['SEVERITYCODE'].value_counts().to_frame()\n",
    "sev_code"
   ]
  },
  {
   "cell_type": "code",
   "execution_count": 52,
   "metadata": {},
   "outputs": [
    {
     "data": {
      "image/png": "[encoded data removed]",
      "text/plain": [
       "<Figure size 432x288 with 1 Axes>"
      ]
     },
     "metadata": {
      "needs_background": "light"
     },
     "output_type": "display_data"
    }
   ],
   "source": [
    "sns.countplot(churn_df['SEVERITYCODE']);"
   ]
  },
  {
   "cell_type": "code",
   "execution_count": 53,
   "metadata": {},
   "outputs": [],
   "source": [
    "## Split the dataset in two acoording with the target classes\n",
    "churn_df_1 = churn_df[churn_df['SEVERITYCODE']==1].copy()\n",
    "churn_df_2 = churn_df[churn_df['SEVERITYCODE']==2].copy()"
   ]
  },
  {
   "cell_type": "code",
   "execution_count": 54,
   "metadata": {},
   "outputs": [
    {
     "data": {
      "text/plain": [
       "(54794, 12)"
      ]
     },
     "execution_count": 54,
     "metadata": {},
     "output_type": "execute_result"
    }
   ],
   "source": [
    "#Generate an array of random indexes according the size of minor class\n",
    "random_idx = np.random.permutation(sev_code.min()[0])\n",
    "\n",
    "# Subsample the biggest dataset as a first strategy to balance de dataset\n",
    "churn_df1_sub_sample = churn_df_1.iloc[random_idx].copy()\n",
    "churn_df1_sub_sample.shape"
   ]
  },
  {
   "cell_type": "code",
   "execution_count": 55,
   "metadata": {},
   "outputs": [],
   "source": [
    "from sklearn.utils import resample\n",
    "sample = 1000\n",
    "\n",
    "churn_df1_downsample = resample(churn_df1_sub_sample,replace = False, n_samples = sample, random_state = 27) \n",
    "churn_df2_downsample = resample(churn_df_2,replace = False, n_samples = sample, random_state = 27) "
   ]
  },
  {
   "cell_type": "code",
   "execution_count": 57,
   "metadata": {},
   "outputs": [
    {
     "data": {
      "image/png": "[encoded data removed]",
      "text/plain": [
       "<Figure size 432x288 with 1 Axes>"
      ]
     },
     "metadata": {
      "needs_background": "light"
     },
     "output_type": "display_data"
    }
   ],
   "source": [
    "#Put togehter both sub dataframes\n",
    "#churn_dfT = churn_df1_sub_sample.append(churn_df_2)\n",
    "churn_dfT = churn_df1_downsample.append(churn_df2_downsample)\n",
    "sns.countplot(churn_dfT['SEVERITYCODE']);"
   ]
  },
  {
   "cell_type": "markdown",
   "metadata": {},
   "source": [
    "### Select and Normalize all the features"
   ]
  },
  {
   "cell_type": "code",
   "execution_count": 58,
   "metadata": {},
   "outputs": [
    {
     "data": {
      "text/plain": [
       "array([[-122.2693221 ,   47.53763755,    5.        ,    2.        ,\n",
       "           2.        ,    2.        ,    3.        ,    0.        ,\n",
       "           7.        ,    5.        ,   32.        ],\n",
       "       [-122.3206031 ,   47.71039531,    4.        ,    2.        ,\n",
       "           2.        ,    2.        ,    2.        ,    0.        ,\n",
       "           0.        ,    5.        ,   21.        ],\n",
       "       [-122.3476108 ,   47.61973935,    0.        ,    2.        ,\n",
       "           5.        ,    3.        ,    1.        ,    0.        ,\n",
       "           0.        ,    2.        ,   10.        ],\n",
       "       [-122.3094821 ,   47.69486901,    0.        ,    2.        ,\n",
       "           2.        ,    4.        ,    1.        ,    0.        ,\n",
       "           0.        ,    2.        ,   10.        ],\n",
       "       [-122.3554531 ,   47.61860207,    9.        ,    2.        ,\n",
       "           2.        ,    0.        ,    0.        ,    0.        ,\n",
       "           8.        ,    5.        ,   11.        ]])"
      ]
     },
     "execution_count": 58,
     "metadata": {},
     "output_type": "execute_result"
    }
   ],
   "source": [
    "features = ['X','Y', 'COLLISIONTYPE', 'VEHCOUNT', 'PERSONCOUNT', 'DayofWeek', 'JUNCTIONTYPE', 'UNDERINFL', 'ROADCOND', 'LIGHTCOND', 'ST_COLCODE']\n",
    "X = np.asarray(churn_dfT[features])\n",
    "X[0:5]"
   ]
  },
  {
   "cell_type": "code",
   "execution_count": 59,
   "metadata": {},
   "outputs": [
    {
     "data": {
      "text/plain": [
       "array([1, 1, 1, 1, 1])"
      ]
     },
     "execution_count": 59,
     "metadata": {},
     "output_type": "execute_result"
    }
   ],
   "source": [
    "y = churn_dfT['SEVERITYCODE'].values\n",
    "y[0:5]\n"
   ]
  },
  {
   "cell_type": "code",
   "execution_count": 60,
   "metadata": {},
   "outputs": [
    {
     "data": {
      "text/plain": [
       "array([[0.82417722, 0.16257378, 0.55555556, 0.33333333, 0.28571429,\n",
       "        0.33333333, 0.6       , 0.        , 0.875     , 0.625     ,\n",
       "        0.38554217],\n",
       "       [0.52731957, 0.89882493, 0.44444444, 0.33333333, 0.28571429,\n",
       "        0.33333333, 0.4       , 0.        , 0.        , 0.625     ,\n",
       "        0.25301205],\n",
       "       [0.37097625, 0.51247149, 0.        , 0.33333333, 0.71428571,\n",
       "        0.5       , 0.2       , 0.        , 0.        , 0.25      ,\n",
       "        0.12048193],\n",
       "       [0.59169729, 0.83265565, 0.        , 0.33333333, 0.28571429,\n",
       "        0.66666667, 0.2       , 0.        , 0.        , 0.25      ,\n",
       "        0.12048193],\n",
       "       [0.32557841, 0.50762468, 1.        , 0.33333333, 0.28571429,\n",
       "        0.        , 0.        , 0.        , 1.        , 0.625     ,\n",
       "        0.13253012]])"
      ]
     },
     "execution_count": 60,
     "metadata": {},
     "output_type": "execute_result"
    }
   ],
   "source": [
    "from sklearn import preprocessing\n",
    "#X= preprocessing.StandardScaler().fit(X).transform(X)\n",
    "X= preprocessing.MinMaxScaler().fit(X).transform(X)\n",
    "X[0:5]"
   ]
  },
  {
   "cell_type": "markdown",
   "metadata": {},
   "source": [
    "# MODELING"
   ]
  },
  {
   "cell_type": "markdown",
   "metadata": {},
   "source": [
    "## Models to be used:\n",
    "\n",
    "- ### KNN\n",
    "- ### SVM\n",
    "- ### Logistic Regression"
   ]
  },
  {
   "cell_type": "markdown",
   "metadata": {},
   "source": [
    "### Split the dataset in train and  testing datasets"
   ]
  },
  {
   "cell_type": "code",
   "execution_count": 62,
   "metadata": {},
   "outputs": [
    {
     "name": "stdout",
     "output_type": "stream",
     "text": [
      "Train set: (1600, 11) (1600,)\n",
      "Test set: (400, 11) (400,)\n"
     ]
    }
   ],
   "source": [
    "#Train test split to be used for all the models\n",
    "from sklearn.model_selection import train_test_split\n",
    "X_train, X_test, y_train, y_test = train_test_split( X, y, test_size=0.2, random_state=4)\n",
    "print ('Train set:', X_train.shape,  y_train.shape)\n",
    "print ('Test set:', X_test.shape,  y_test.shape)"
   ]
  },
  {
   "cell_type": "markdown",
   "metadata": {},
   "source": [
    "### Split the train data in train and evaluation dataset for hyperparameters adjustments"
   ]
  },
  {
   "cell_type": "code",
   "execution_count": 64,
   "metadata": {},
   "outputs": [
    {
     "name": "stdout",
     "output_type": "stream",
     "text": [
      "Train set: (1600, 11) (1600,)\n",
      "Eval set: (400, 11) (400,)\n"
     ]
    }
   ],
   "source": [
    "X_train, X_eval, y_train, y_eval, = train_test_split( X, y, test_size=0.2, random_state=4)\n",
    "print ('Train set:', X_train.shape,  y_train.shape)\n",
    "print ('Eval set:', X_eval.shape,  y_eval.shape)"
   ]
  },
  {
   "cell_type": "markdown",
   "metadata": {},
   "source": [
    "## KNN MODEL"
   ]
  },
  {
   "cell_type": "code",
   "execution_count": 65,
   "metadata": {},
   "outputs": [],
   "source": [
    "#Import library for KNN\n",
    "from sklearn.neighbors import KNeighborsClassifier"
   ]
  },
  {
   "cell_type": "code",
   "execution_count": 66,
   "metadata": {},
   "outputs": [],
   "source": [
    "#Accuracy evaluation\n",
    "from sklearn import metrics\n"
   ]
  },
  {
   "cell_type": "code",
   "execution_count": 76,
   "metadata": {},
   "outputs": [
    {
     "data": {
      "text/plain": [
       "array([0.65  , 0.6475, 0.665 , 0.6725, 0.69  , 0.6925, 0.7   , 0.675 ,\n",
       "       0.685 , 0.685 , 0.69  , 0.685 , 0.7   , 0.6925, 0.6825, 0.68  ,\n",
       "       0.6925, 0.68  , 0.685 , 0.68  , 0.69  , 0.685 , 0.705 , 0.6925,\n",
       "       0.7   , 0.705 , 0.7025, 0.6975, 0.7025, 0.71  , 0.7175, 0.7   ,\n",
       "       0.71  , 0.7125, 0.705 , 0.7175, 0.7275, 0.7175, 0.7225, 0.715 ,\n",
       "       0.725 , 0.72  , 0.725 , 0.725 ])"
      ]
     },
     "execution_count": 76,
     "metadata": {},
     "output_type": "execute_result"
    }
   ],
   "source": [
    "#Testing for other K Values\n",
    "\n",
    "p=1\n",
    "Ks = 45\n",
    "leafsize = 25\n",
    "algorithm = 'auto'\n",
    "\n",
    "mean_acc = np.zeros((Ks-1))\n",
    "std_acc = np.zeros((Ks-1))\n",
    "ConfustionMx = [];\n",
    "for n in range(1,Ks):\n",
    "    \n",
    "    #Train Model and Predict  \n",
    "    neigh = KNeighborsClassifier(n_neighbors = n, leaf_size=leafsize,p=1, algorithm=algorithm).fit(X_train,y_train)\n",
    "    yhat=neigh.predict(X_test)\n",
    "    mean_acc[n-1] = metrics.accuracy_score(y_eval, yhat)\n",
    "\n",
    "    \n",
    "    std_acc[n-1]=np.std(yhat==y_eval)/np.sqrt(yhat.shape[0])\n",
    "\n",
    "mean_acc"
   ]
  },
  {
   "cell_type": "code",
   "execution_count": 77,
   "metadata": {},
   "outputs": [
    {
     "data": {
      "image/png": "[encoded data removed]",
      "text/plain": [
       "<Figure size 432x288 with 1 Axes>"
      ]
     },
     "metadata": {
      "needs_background": "light"
     },
     "output_type": "display_data"
    }
   ],
   "source": [
    "plt.plot(range(1,Ks),mean_acc,'g')\n",
    "plt.fill_between(range(1,Ks),mean_acc - 1 * std_acc,mean_acc + 1 * std_acc, alpha=0.10)\n",
    "plt.legend(('Accuracy ', '+/- 3xstd'))\n",
    "plt.ylabel('Accuracy ')\n",
    "plt.xlabel('Number of Nabors (K)')\n",
    "plt.tight_layout()\n",
    "plt.show()"
   ]
  },
  {
   "cell_type": "code",
   "execution_count": 72,
   "metadata": {},
   "outputs": [
    {
     "data": {
      "text/plain": [
       "array([1, 1, 2, 1, 1])"
      ]
     },
     "execution_count": 72,
     "metadata": {},
     "output_type": "execute_result"
    }
   ],
   "source": [
    "\n",
    "k = 24 #The highest accuracy\n",
    "leaf = 25\n",
    "#Train Model and Predict  \n",
    "neigh = KNeighborsClassifier(n_neighbors = k, leaf_size=leaf, algorithm='auto',p=1).fit(X_train,y_train)\n",
    "neigh\n",
    "\n",
    "#Predicting\n",
    "yhat = neigh.predict(X_eval)\n",
    "yhat[0:5]"
   ]
  },
  {
   "cell_type": "code",
   "execution_count": 73,
   "metadata": {},
   "outputs": [
    {
     "data": {
      "text/plain": [
       "0.6909263705482194"
      ]
     },
     "execution_count": 73,
     "metadata": {},
     "output_type": "execute_result"
    }
   ],
   "source": [
    "from sklearn.metrics import roc_auc_score\n",
    "from sklearn.model_selection import GridSearchCV\n",
    "\n",
    "#Checking performance our model with ROC Score.\n",
    "roc_auc_score(y_eval, yhat)"
   ]
  },
  {
   "cell_type": "code",
   "execution_count": null,
   "metadata": {},
   "outputs": [
    {
     "name": "stdout",
     "output_type": "stream",
     "text": [
      "Fitting 5 folds for each of 1600 candidates, totalling 8000 fits\n"
     ]
    },
    {
     "name": "stderr",
     "output_type": "stream",
     "text": [
      "[Parallel(n_jobs=1)]: Using backend SequentialBackend with 1 concurrent workers.\n"
     ]
    }
   ],
   "source": [
    "#List Hyperparameters that we want to tune.\n",
    "leaf_size = list(range(25,30))\n",
    "n_neighbors = list(range(20,100))\n",
    "p=[1]\n",
    "algorithm = ['auto', 'ball_tree', 'kd_tree', 'brute']\n",
    "#Convert to dictionary\n",
    "hyperparameters = dict(leaf_size=leaf_size, n_neighbors=n_neighbors, p=p, algorithm=algorithm)\n",
    "#Create new KNN object\n",
    "knn_2 = KNeighborsClassifier()\n",
    "#Use GridSearch\n",
    "clf = GridSearchCV(knn_2, hyperparameters,scoring = 'f1',verbose=1)\n",
    "#Fit the model\n",
    "best_model = clf.fit(X_train,y_train)\n",
    "#Print The value of best Hyperparameters\n",
    "print('Best leaf_size:', best_model.best_estimator_.get_params()['leaf_size'])\n",
    "print('Best p:', best_model.best_estimator_.get_params()['p'])\n",
    "print('Best n_neighbors:', best_model.best_estimator_.get_params()['n_neighbors'])\n",
    "print('Best Algorithm:', best_model.best_estimator_.get_params()['algorithm'])"
   ]
  },
  {
   "cell_type": "code",
   "execution_count": 81,
   "metadata": {},
   "outputs": [
    {
     "data": {
      "text/plain": [
       "0.7088835534213684"
      ]
     },
     "execution_count": 81,
     "metadata": {},
     "output_type": "execute_result"
    }
   ],
   "source": [
    "yhat = best_model.predict(X_eval)\n",
    "roc_auc_score(y_eval, yhat)"
   ]
  },
  {
   "cell_type": "code",
   "execution_count": 82,
   "metadata": {},
   "outputs": [
    {
     "data": {
      "text/plain": [
       "0.7089800020098482"
      ]
     },
     "execution_count": 82,
     "metadata": {},
     "output_type": "execute_result"
    }
   ],
   "source": [
    "from sklearn.metrics import f1_score\n",
    "knn_f1 = f1_score(y_eval, yhat, average='weighted')\n",
    "knn_f1"
   ]
  },
  {
   "cell_type": "markdown",
   "metadata": {},
   "source": [
    "### DECISION TREE"
   ]
  },
  {
   "cell_type": "code",
   "execution_count": 311,
   "metadata": {},
   "outputs": [],
   "source": [
    "from sklearn.tree import DecisionTreeClassifier"
   ]
  },
  {
   "cell_type": "code",
   "execution_count": 316,
   "metadata": {},
   "outputs": [
    {
     "data": {
      "text/plain": [
       "DecisionTreeClassifier(ccp_alpha=0.0, class_weight=None, criterion='entropy',\n",
       "                       max_depth=8, max_features=None, max_leaf_nodes=None,\n",
       "                       min_impurity_decrease=0.0, min_impurity_split=None,\n",
       "                       min_samples_leaf=1, min_samples_split=2,\n",
       "                       min_weight_fraction_leaf=0.0, presort='deprecated',\n",
       "                       random_state=None, splitter='best')"
      ]
     },
     "execution_count": 316,
     "metadata": {},
     "output_type": "execute_result"
    }
   ],
   "source": [
    "#Modeling\n",
    "loanTree = DecisionTreeClassifier(criterion=\"entropy\", max_depth = 8)\n",
    "loanTree # it shows the default parameters"
   ]
  },
  {
   "cell_type": "code",
   "execution_count": 317,
   "metadata": {},
   "outputs": [
    {
     "data": {
      "text/plain": [
       "DecisionTreeClassifier(ccp_alpha=0.0, class_weight=None, criterion='entropy',\n",
       "                       max_depth=8, max_features=None, max_leaf_nodes=None,\n",
       "                       min_impurity_decrease=0.0, min_impurity_split=None,\n",
       "                       min_samples_leaf=1, min_samples_split=2,\n",
       "                       min_weight_fraction_leaf=0.0, presort='deprecated',\n",
       "                       random_state=None, splitter='best')"
      ]
     },
     "execution_count": 317,
     "metadata": {},
     "output_type": "execute_result"
    }
   ],
   "source": [
    "#Trainning\n",
    "loanTree.fit(X_train, y_train)"
   ]
  },
  {
   "cell_type": "code",
   "execution_count": 318,
   "metadata": {},
   "outputs": [
    {
     "name": "stdout",
     "output_type": "stream",
     "text": [
      "[1 1 1 1 2]\n",
      "[1 1 1 2 1]\n"
     ]
    }
   ],
   "source": [
    "#Prediction\n",
    "predTree = loanTree.predict(X_test)\n",
    "print (predTree [0:5])\n",
    "print (y_test [0:5])"
   ]
  },
  {
   "cell_type": "markdown",
   "metadata": {},
   "source": [
    "### Support Vector Machine"
   ]
  },
  {
   "cell_type": "code",
   "execution_count": 83,
   "metadata": {},
   "outputs": [],
   "source": [
    "#Import library\n",
    "from sklearn import svm\n",
    "from sklearn.model_selection import GridSearchCV"
   ]
  },
  {
   "cell_type": "code",
   "execution_count": 88,
   "metadata": {},
   "outputs": [
    {
     "data": {
      "text/plain": [
       "SVC(C=1, break_ties=False, cache_size=200, class_weight=None, coef0=0.0,\n",
       "    decision_function_shape='ovr', degree=3, gamma=1, kernel='rbf', max_iter=-1,\n",
       "    probability=False, random_state=None, shrinking=True, tol=0.001,\n",
       "    verbose=False)"
      ]
     },
     "execution_count": 88,
     "metadata": {},
     "output_type": "execute_result"
    }
   ],
   "source": [
    "#Modeling using Radial basis function (RBF) as kernel\n",
    "gamma = 1\n",
    "kernel = 'rbf'\n",
    "C = 1\n",
    "svc_svm = svm.SVC(kernel=kernel, C=C, gamma=gamma)\n",
    "svc_svm.fit(X_train, y_train)"
   ]
  },
  {
   "cell_type": "code",
   "execution_count": 89,
   "metadata": {},
   "outputs": [
    {
     "data": {
      "text/plain": [
       "array([1, 1, 1, 1, 1])"
      ]
     },
     "execution_count": 89,
     "metadata": {},
     "output_type": "execute_result"
    }
   ],
   "source": [
    "#Prediction\n",
    "yhat = svc_svm.predict(X_test)\n",
    "yhat [0:5]"
   ]
  },
  {
   "cell_type": "code",
   "execution_count": 84,
   "metadata": {},
   "outputs": [
    {
     "name": "stdout",
     "output_type": "stream",
     "text": [
      "Fitting 5 folds for each of 48 candidates, totalling 240 fits\n"
     ]
    },
    {
     "name": "stderr",
     "output_type": "stream",
     "text": [
      "[Parallel(n_jobs=1)]: Using backend SequentialBackend with 1 concurrent workers.\n",
      "[Parallel(n_jobs=1)]: Done 240 out of 240 | elapsed:   46.4s finished\n"
     ]
    }
   ],
   "source": [
    "from sklearn.svm import SVC \n",
    "\n",
    "param_grid = {'C': [0.1,1, 10, 100], 'gamma': [1,0.1,0.01,0.001],'kernel': ['rbf', 'poly', 'sigmoid']}\n",
    "grid = GridSearchCV(SVC(),param_grid,refit=True,verbose=1)\n",
    "\n",
    "best_model = grid.fit(X_train,y_train)"
   ]
  },
  {
   "cell_type": "code",
   "execution_count": 85,
   "metadata": {},
   "outputs": [
    {
     "name": "stdout",
     "output_type": "stream",
     "text": [
      "Accuracy Score : 0.71\n",
      "Precision Score : 0.7075471698113207\n",
      "Recall Score : 0.7352941176470589\n",
      "F1 Score : 0.7211538461538461\n",
      "Best Algorithm: {'C': 1, 'break_ties': False, 'cache_size': 200, 'class_weight': None, 'coef0': 0.0, 'decision_function_shape': 'ovr', 'degree': 3, 'gamma': 1, 'kernel': 'rbf', 'max_iter': -1, 'probability': False, 'random_state': None, 'shrinking': True, 'tol': 0.001, 'verbose': False}\n"
     ]
    }
   ],
   "source": [
    "from sklearn.metrics import accuracy_score,recall_score,precision_score,f1_score\n",
    "#Predict values based on new parameters\n",
    "y_pred_acc = best_model.predict(X_eval)\n",
    "\n",
    "# New Model Evaluation metrics \n",
    "print('Accuracy Score : ' + str(accuracy_score(y_test,y_pred_acc)))\n",
    "print('Precision Score : ' + str(precision_score(y_test,y_pred_acc)))\n",
    "print('Recall Score : ' + str(recall_score(y_test,y_pred_acc)))\n",
    "print('F1 Score : ' + str(f1_score(y_test,y_pred_acc)))\n",
    "\n",
    "print('Best Algorithm:', best_model.best_estimator_.get_params())"
   ]
  },
  {
   "cell_type": "markdown",
   "metadata": {},
   "source": [
    "### Logistic regression"
   ]
  },
  {
   "cell_type": "code",
   "execution_count": 86,
   "metadata": {},
   "outputs": [],
   "source": [
    "#Import library\n",
    "from sklearn.linear_model import LogisticRegression\n",
    "from sklearn.metrics import confusion_matrix"
   ]
  },
  {
   "cell_type": "code",
   "execution_count": 402,
   "metadata": {},
   "outputs": [
    {
     "data": {
      "text/plain": [
       "LogisticRegression(C=0.01, class_weight=None, dual=False, fit_intercept=True,\n",
       "                   intercept_scaling=1, l1_ratio=None, max_iter=100,\n",
       "                   multi_class='auto', n_jobs=None, penalty='l2',\n",
       "                   random_state=None, solver='liblinear', tol=0.0001, verbose=0,\n",
       "                   warm_start=False)"
      ]
     },
     "execution_count": 402,
     "metadata": {},
     "output_type": "execute_result"
    }
   ],
   "source": [
    "#Model using solver linear / solver='sag'\n",
    "LR = LogisticRegression(C=0.01, solver='liblinear').fit(X_train,y_train)\n",
    "LR"
   ]
  },
  {
   "cell_type": "code",
   "execution_count": 87,
   "metadata": {},
   "outputs": [
    {
     "name": "stdout",
     "output_type": "stream",
     "text": [
      "Accuracy Score : 0.51\n",
      "Precision Score : 0.51\n",
      "Recall Score : 1.0\n",
      "F1 Score : 0.6754966887417219\n",
      "Best Algorithm: {'C': 0.001, 'class_weight': 'balanced', 'dual': False, 'fit_intercept': True, 'intercept_scaling': 1, 'l1_ratio': None, 'max_iter': 100, 'multi_class': 'auto', 'n_jobs': None, 'penalty': 'l1', 'random_state': None, 'solver': 'liblinear', 'tol': 0.0001, 'verbose': 0, 'warm_start': False}\n"
     ]
    }
   ],
   "source": [
    "from sklearn.metrics import accuracy_score,recall_score,precision_score,f1_score\n",
    "\n",
    "clf = LogisticRegression()\n",
    "grid_values = {'class_weight':['balanced'],'solver':['liblinear','saga'],'penalty': ['l1','l2'],'C':[0.001,0.005,0.01,0.09,1,5,10,25]}\n",
    "grid_clf_acc = GridSearchCV(clf, param_grid = grid_values,scoring = 'f1')\n",
    "best_model = grid_clf_acc.fit(X_train, y_train)\n",
    "\n",
    "#Predict values based on new parameters\n",
    "y_pred_acc = grid_clf_acc.predict(X_test)\n",
    "\n",
    "# New Model Evaluation metrics \n",
    "print('Accuracy Score : ' + str(accuracy_score(y_test,y_pred_acc)))\n",
    "print('Precision Score : ' + str(precision_score(y_test,y_pred_acc)))\n",
    "print('Recall Score : ' + str(recall_score(y_test,y_pred_acc)))\n",
    "print('F1 Score : ' + str(f1_score(y_test,y_pred_acc)))\n",
    "\n",
    "print('Best Algorithm:', best_model.best_estimator_.get_params())"
   ]
  },
  {
   "cell_type": "code",
   "execution_count": 403,
   "metadata": {},
   "outputs": [
    {
     "data": {
      "text/plain": [
       "array([2, 1, 1, 2, 2])"
      ]
     },
     "execution_count": 403,
     "metadata": {},
     "output_type": "execute_result"
    }
   ],
   "source": [
    "#Predict\n",
    "yhat = LR.predict(X_test)\n",
    "yhat[:5]"
   ]
  },
  {
   "cell_type": "code",
   "execution_count": 426,
   "metadata": {},
   "outputs": [
    {
     "data": {
      "text/plain": [
       "array([[0.48, 0.52],\n",
       "       [0.6 , 0.4 ],\n",
       "       [0.69, 0.31],\n",
       "       [0.37, 0.63],\n",
       "       [0.47, 0.53]])"
      ]
     },
     "execution_count": 426,
     "metadata": {},
     "output_type": "execute_result"
    }
   ],
   "source": [
    "#Prediction probability\n",
    "yhat_prob = LR.predict_proba(X_test)\n",
    "yhat_prob[:5]"
   ]
  },
  {
   "cell_type": "markdown",
   "metadata": {},
   "source": [
    "# EVALUATION"
   ]
  },
  {
   "cell_type": "markdown",
   "metadata": {},
   "source": [
    "## Using the test set, different metrics will be used to evaluate the diffents modells:\n",
    "\n",
    "- F1 Score\n",
    "- Jaccard Index\n",
    "- Accuracy\n",
    "- Log loss"
   ]
  },
  {
   "cell_type": "markdown",
   "metadata": {},
   "source": [
    "## Evaluate the predictions using each trainned model with the test set"
   ]
  },
  {
   "cell_type": "code",
   "execution_count": 431,
   "metadata": {},
   "outputs": [
    {
     "data": {
      "text/plain": [
       "array([2, 2, 1, 2, 2])"
      ]
     },
     "execution_count": 431,
     "metadata": {},
     "output_type": "execute_result"
    }
   ],
   "source": [
    "#Predicting using KNN using K=11 best result\n",
    "yhat_knn = neigh.predict(X_test)\n",
    "yhat_knn[0:5]"
   ]
  },
  {
   "cell_type": "code",
   "execution_count": 432,
   "metadata": {},
   "outputs": [
    {
     "data": {
      "text/plain": [
       "array([2, 2, 1, 2, 2])"
      ]
     },
     "execution_count": 432,
     "metadata": {},
     "output_type": "execute_result"
    }
   ],
   "source": [
    "# Predicting using SVM model\n",
    "yhat_svm = svc_svm.predict(X_test)\n",
    "yhat_svm[0:5]"
   ]
  },
  {
   "cell_type": "code",
   "execution_count": 433,
   "metadata": {},
   "outputs": [
    {
     "data": {
      "text/plain": [
       "array([[0.48, 0.52],\n",
       "       [0.6 , 0.4 ],\n",
       "       [0.69, 0.31],\n",
       "       [0.37, 0.63],\n",
       "       [0.47, 0.53]])"
      ]
     },
     "execution_count": 433,
     "metadata": {},
     "output_type": "execute_result"
    }
   ],
   "source": [
    "# Predicting using Logistic Regression\n",
    "yhat_lr = LR.predict(X_test)\n",
    "yhat_lr[:5]\n",
    "\n",
    "#Prediction probability\n",
    "yhat_prob = LR.predict_proba(X_test)\n",
    "yhat_prob[:5]\n"
   ]
  },
  {
   "cell_type": "code",
   "execution_count": 434,
   "metadata": {},
   "outputs": [],
   "source": [
    "#Import metrics from sklearn\n",
    "\n",
    "from sklearn.metrics import f1_score\n",
    "from sklearn.metrics import jaccard_similarity_score\n",
    "from sklearn.metrics import log_loss\n"
   ]
  },
  {
   "cell_type": "markdown",
   "metadata": {},
   "source": [
    "## Calcule the different index using the yhat predicted by each model"
   ]
  },
  {
   "cell_type": "code",
   "execution_count": 435,
   "metadata": {},
   "outputs": [
    {
     "name": "stderr",
     "output_type": "stream",
     "text": [
      "/Users/rafaelmata357/opt/anaconda3/lib/python3.7/site-packages/sklearn/metrics/_classification.py:664: FutureWarning: jaccard_similarity_score has been deprecated and replaced with jaccard_score. It will be removed in version 0.23. This implementation has surprising behavior for binary and multiclass classification tasks.\n",
      "  FutureWarning)\n"
     ]
    }
   ],
   "source": [
    "knn_f1 = f1_score(y_test, yhat_knn, average='weighted')\n",
    "knn_jc = jaccard_similarity_score(y_test, yhat_knn)\n",
    "knn_acc = metrics.accuracy_score(y_test, yhat_knn)\n",
    "\n",
    "svm_f1 = f1_score(y_test, yhat_svm, average='weighted')\n",
    "svm_jc = jaccard_similarity_score(y_test, yhat_svm)\n",
    "svm_acc = metrics.accuracy_score(y_test, yhat_svm)\n",
    "\n",
    "lr_f1 = f1_score(y_test, yhat_lr, average='weighted', labels=np.unique(yhat_lr))\n",
    "lr_jc = jaccard_similarity_score(y_test, yhat_lr)\n",
    "lr_acc = metrics.accuracy_score(y_test, yhat_lr)\n",
    "lr_loss =log_loss(y_test, yhat_prob)"
   ]
  },
  {
   "cell_type": "markdown",
   "metadata": {},
   "source": [
    "### Function to graph confusion matrix from course materials "
   ]
  },
  {
   "cell_type": "code",
   "execution_count": 2,
   "metadata": {},
   "outputs": [
    {
     "ename": "NameError",
     "evalue": "name 'plt' is not defined",
     "output_type": "error",
     "traceback": [
      "\u001b[0;31m---------------------------------------------------------------------------\u001b[0m",
      "\u001b[0;31mNameError\u001b[0m                                 Traceback (most recent call last)",
      "\u001b[0;32m<ipython-input-2-be0f5808bc05>\u001b[0m in \u001b[0;36m<module>\u001b[0;34m\u001b[0m\n\u001b[1;32m      4\u001b[0m                           \u001b[0mnormalize\u001b[0m\u001b[0;34m=\u001b[0m\u001b[0;32mFalse\u001b[0m\u001b[0;34m,\u001b[0m\u001b[0;34m\u001b[0m\u001b[0;34m\u001b[0m\u001b[0m\n\u001b[1;32m      5\u001b[0m                           \u001b[0mtitle\u001b[0m\u001b[0;34m=\u001b[0m\u001b[0;34m'Confusion matrix'\u001b[0m\u001b[0;34m,\u001b[0m\u001b[0;34m\u001b[0m\u001b[0;34m\u001b[0m\u001b[0m\n\u001b[0;32m----> 6\u001b[0;31m                           cmap=plt.cm.Blues):\n\u001b[0m\u001b[1;32m      7\u001b[0m     \"\"\"\n\u001b[1;32m      8\u001b[0m     \u001b[0mThis\u001b[0m \u001b[0mfunction\u001b[0m \u001b[0mprints\u001b[0m \u001b[0;32mand\u001b[0m \u001b[0mplots\u001b[0m \u001b[0mthe\u001b[0m \u001b[0mconfusion\u001b[0m \u001b[0mmatrix\u001b[0m\u001b[0;34m.\u001b[0m\u001b[0;34m\u001b[0m\u001b[0;34m\u001b[0m\u001b[0m\n",
      "\u001b[0;31mNameError\u001b[0m: name 'plt' is not defined"
     ]
    }
   ],
   "source": [
    "from sklearn.metrics import classification_report, confusion_matrix\n",
    "import itertools\n",
    "def ax_plot_confusion_matrix(cm, classes,ax,\n",
    "                          normalize=False,\n",
    "                          title='Confusion matrix',\n",
    "                          cmap=plt.cm.Blues):\n",
    "    \"\"\"\n",
    "    This function prints and plots the confusion matrix.\n",
    "    Normalization can be applied by setting `normalize=True`.\n",
    "    \"\"\"\n",
    "    \n",
    "      \n",
    "   \n",
    "    plt.sca(ax)\n",
    "\n",
    "    if normalize:\n",
    "        cm = cm.astype('float') / cm.sum(axis=1)[:, np.newaxis]\n",
    "        print(\"Normalized confusion matrix\")\n",
    "    #else:\n",
    "        #print('Confusion matrix, without normalization')\n",
    "\n",
    "    #print(cm)\n",
    "\n",
    "    plt.imshow(cm, interpolation='nearest', cmap=cmap)\n",
    "    plt.title(title)\n",
    "    #plt.colorbar()\n",
    "    tick_marks = np.arange(len(classes))\n",
    "    plt.xticks(tick_marks, classes, rotation=45)\n",
    "    plt.yticks(tick_marks, classes)\n",
    "\n",
    "    fmt = '.2f' if normalize else 'd'\n",
    "    thresh = cm.max() / 2.\n",
    "    for i, j in itertools.product(range(cm.shape[0]), range(cm.shape[1])):\n",
    "        plt.text(j, i, format(cm[i, j], fmt),\n",
    "                 horizontalalignment=\"center\",\n",
    "                 color=\"white\" if cm[i, j] > thresh else \"black\")\n",
    "\n",
    "    plt.tight_layout()\n",
    "    plt.ylabel('True label')\n",
    "    plt.xlabel('Predicted label')\n"
   ]
  },
  {
   "cell_type": "markdown",
   "metadata": {},
   "source": [
    "## Create a report with different index together"
   ]
  },
  {
   "cell_type": "code",
   "execution_count": 443,
   "metadata": {},
   "outputs": [],
   "source": [
    "report_df = pd.DataFrame({'Algorithm':['KNN','SVM', 'LogisticRegression'], 'Jaccard':[knn_jc, svm_jc, lr_jc], 'F1-score':[knn_f1, svm_f1, lr_f1], 'Accuracy':[knn_acc, svm_acc, lr_acc], 'LogLoss':['NA', 'NA', lr_loss]} )\n"
   ]
  },
  {
   "cell_type": "code",
   "execution_count": 444,
   "metadata": {},
   "outputs": [
    {
     "data": {
      "text/html": [
       "\n",
       "<style>\n",
       ".output {\n",
       "    display: flex;\n",
       "    align-items: center;\n",
       "    text-align: center;\n",
       "}\n",
       "</style>\n"
      ],
      "text/plain": [
       "<IPython.core.display.HTML object>"
      ]
     },
     "metadata": {},
     "output_type": "display_data"
    },
    {
     "data": {
      "text/html": [
       "<table border=\"1\" class=\"dataframe\">\n",
       "  <thead>\n",
       "    <tr style=\"text-align: right;\">\n",
       "      <th>Algorithm</th>\n",
       "      <th>Jaccard</th>\n",
       "      <th>F1-score</th>\n",
       "      <th>Accuracy</th>\n",
       "      <th>LogLoss</th>\n",
       "    </tr>\n",
       "  </thead>\n",
       "  <tbody>\n",
       "    <tr>\n",
       "      <td>KNN</td>\n",
       "      <td>0.697646</td>\n",
       "      <td>0.697566</td>\n",
       "      <td>0.697646</td>\n",
       "      <td>NA</td>\n",
       "    </tr>\n",
       "    <tr>\n",
       "      <td>SVM</td>\n",
       "      <td>0.713478</td>\n",
       "      <td>0.711152</td>\n",
       "      <td>0.713478</td>\n",
       "      <td>NA</td>\n",
       "    </tr>\n",
       "    <tr>\n",
       "      <td>LogisticRegression</td>\n",
       "      <td>0.642668</td>\n",
       "      <td>0.642155</td>\n",
       "      <td>0.642668</td>\n",
       "      <td>0.632848</td>\n",
       "    </tr>\n",
       "  </tbody>\n",
       "</table>"
      ],
      "text/plain": [
       "<IPython.core.display.HTML object>"
      ]
     },
     "execution_count": 444,
     "metadata": {},
     "output_type": "execute_result"
    }
   ],
   "source": [
    "from IPython.display import display, HTML\n",
    "display(HTML(\"\"\"\n",
    "<style>\n",
    ".output {\n",
    "    display: flex;\n",
    "    align-items: center;\n",
    "    text-align: center;\n",
    "}\n",
    "</style>\n",
    "\"\"\"))\n",
    "HTML(report_df.to_html(index=False))"
   ]
  },
  {
   "cell_type": "markdown",
   "metadata": {},
   "source": [
    "## Classification report for each model"
   ]
  },
  {
   "cell_type": "code",
   "execution_count": 1,
   "metadata": {},
   "outputs": [
    {
     "ename": "NameError",
     "evalue": "name 'classification_report' is not defined",
     "output_type": "error",
     "traceback": [
      "\u001b[0;31m---------------------------------------------------------------------------\u001b[0m",
      "\u001b[0;31mNameError\u001b[0m                                 Traceback (most recent call last)",
      "\u001b[0;32m<ipython-input-1-04718f93126b>\u001b[0m in \u001b[0;36m<module>\u001b[0;34m\u001b[0m\n\u001b[0;32m----> 1\u001b[0;31m \u001b[0mprint\u001b[0m \u001b[0;34m(\u001b[0m\u001b[0mclassification_report\u001b[0m\u001b[0;34m(\u001b[0m\u001b[0my_test\u001b[0m\u001b[0;34m,\u001b[0m \u001b[0myhat_knn\u001b[0m\u001b[0;34m)\u001b[0m\u001b[0;34m)\u001b[0m\u001b[0;34m\u001b[0m\u001b[0;34m\u001b[0m\u001b[0m\n\u001b[0m",
      "\u001b[0;31mNameError\u001b[0m: name 'classification_report' is not defined"
     ]
    }
   ],
   "source": [
    "print (classification_report(y_test, yhat_knn))"
   ]
  },
  {
   "cell_type": "code",
   "execution_count": 446,
   "metadata": {},
   "outputs": [
    {
     "name": "stdout",
     "output_type": "stream",
     "text": [
      "              precision    recall  f1-score   support\n",
      "\n",
      "           1       0.75      0.62      0.68     10863\n",
      "           2       0.68      0.80      0.74     11055\n",
      "\n",
      "    accuracy                           0.71     21918\n",
      "   macro avg       0.72      0.71      0.71     21918\n",
      "weighted avg       0.72      0.71      0.71     21918\n",
      "\n"
     ]
    }
   ],
   "source": [
    "print (classification_report(y_test, yhat_svm))"
   ]
  },
  {
   "cell_type": "code",
   "execution_count": 447,
   "metadata": {},
   "outputs": [
    {
     "name": "stdout",
     "output_type": "stream",
     "text": [
      "              precision    recall  f1-score   support\n",
      "\n",
      "           1       0.63      0.68      0.65     10863\n",
      "           2       0.66      0.60      0.63     11055\n",
      "\n",
      "    accuracy                           0.64     21918\n",
      "   macro avg       0.64      0.64      0.64     21918\n",
      "weighted avg       0.64      0.64      0.64     21918\n",
      "\n"
     ]
    }
   ],
   "source": [
    "print (classification_report(y_test, yhat_lr))"
   ]
  },
  {
   "cell_type": "markdown",
   "metadata": {},
   "source": [
    "### Confusion matrix for each model"
   ]
  },
  {
   "cell_type": "code",
   "execution_count": 477,
   "metadata": {},
   "outputs": [
    {
     "data": {
      "image/png": "[encoded data removed]",
      "text/plain": [
       "<Figure size 1152x576 with 3 Axes>"
      ]
     },
     "metadata": {
      "needs_background": "light"
     },
     "output_type": "display_data"
    }
   ],
   "source": [
    "# Compute confusion matrix\n",
    "cnf_matrix_knn = confusion_matrix(y_test, yhat_knn, labels=[1,2])\n",
    "cnf_matrix_svm = confusion_matrix(y_test, yhat_svm, labels=[1,2])\n",
    "cnf_matrix_lr = confusion_matrix(y_test, yhat_lr, labels=[1,2])\n",
    "np.set_printoptions(precision=2)\n",
    "\n",
    "fig, ax = plt.subplots(nrows=1, ncols=3, figsize=(16,8))  #Generate subplots 3 x 2 \n",
    "# Plot non-normalized confusion matrix\n",
    "ax_plot_confusion_matrix(cnf_matrix_knn, classes=['SevCode=1','SevCode=2'],ax=ax[0], normalize= False,  title='Confusion matrix KNN')\n",
    "ax_plot_confusion_matrix(cnf_matrix_svm, classes=['SevCode=1','SevCode=2'],ax=ax[1], normalize= False,  title='Confusion matrix SVM')\n",
    "ax_plot_confusion_matrix(cnf_matrix_lr, classes=['SevCode=1','SevCode=2'],ax=ax[2], normalize= False,  title='Confusion matrix LR')"
   ]
  },
  {
   "cell_type": "markdown",
   "metadata": {},
   "source": [
    "# DEPLOYMENT"
   ]
  },
  {
   "cell_type": "code",
   "execution_count": 440,
   "metadata": {},
   "outputs": [],
   "source": []
  },
  {
   "cell_type": "code",
   "execution_count": null,
   "metadata": {},
   "outputs": [],
   "source": []
  }
 ],
 "metadata": {
  "kernelspec": {
   "display_name": "Python 3",
   "language": "python",
   "name": "python3"
  },
  "language_info": {
   "codemirror_mode": {
    "name": "ipython",
    "version": 3
   },
   "file_extension": ".py",
   "mimetype": "text/x-python",
   "name": "python",
   "nbconvert_exporter": "python",
   "pygments_lexer": "ipython3",
   "version": "3.7.6"
  }
 },
 "nbformat": 4,
 "nbformat_minor": 4
}
